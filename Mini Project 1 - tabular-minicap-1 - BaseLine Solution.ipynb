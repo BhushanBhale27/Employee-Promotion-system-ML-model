{
 "cells": [
  {
   "cell_type": "markdown",
   "id": "8dacccfc",
   "metadata": {},
   "source": [
    "# Baseline solution"
   ]
  },
  {
   "cell_type": "code",
   "execution_count": 1,
   "id": "5306d57d",
   "metadata": {},
   "outputs": [],
   "source": [
    "import pandas as pd\n",
    "import numpy as np\n",
    "from sklearn.model_selection import train_test_split\n",
    "from sklearn.compose import ColumnTransformer\n",
    "from sklearn.metrics import classification_report\n",
    "from sklearn.linear_model import LogisticRegression\n",
    "from sklearn.tree import DecisionTreeClassifier\n",
    "from sklearn.naive_bayes import GaussianNB\n",
    "from sklearn.neighbors import KNeighborsClassifier\n",
    "from sklearn.impute import SimpleImputer\n",
    "from sklearn.preprocessing import OrdinalEncoder , OneHotEncoder\n",
    "from sklearn.tree import *"
   ]
  },
  {
   "cell_type": "code",
   "execution_count": 2,
   "id": "ed067187",
   "metadata": {},
   "outputs": [],
   "source": [
    "pd.set_option('display.max_rows', 500)"
   ]
  },
  {
   "cell_type": "code",
   "execution_count": 3,
   "id": "b54a2503",
   "metadata": {},
   "outputs": [],
   "source": [
    "data = pd.read_csv(\"C:\\\\Users\\\\Asus\\\\Downloads\\\\tabular-minicap-1-main\\\\tabular-minicap-1-main\\\\train.csv\")"
   ]
  },
  {
   "cell_type": "code",
   "execution_count": 4,
   "id": "e201de91",
   "metadata": {},
   "outputs": [
    {
     "data": {
      "text/html": [
       "<div>\n",
       "<style scoped>\n",
       "    .dataframe tbody tr th:only-of-type {\n",
       "        vertical-align: middle;\n",
       "    }\n",
       "\n",
       "    .dataframe tbody tr th {\n",
       "        vertical-align: top;\n",
       "    }\n",
       "\n",
       "    .dataframe thead th {\n",
       "        text-align: right;\n",
       "    }\n",
       "</style>\n",
       "<table border=\"1\" class=\"dataframe\">\n",
       "  <thead>\n",
       "    <tr style=\"text-align: right;\">\n",
       "      <th></th>\n",
       "      <th>employee_id</th>\n",
       "      <th>department</th>\n",
       "      <th>region</th>\n",
       "      <th>education</th>\n",
       "      <th>gender</th>\n",
       "      <th>recruitment_channel</th>\n",
       "      <th>no_of_trainings</th>\n",
       "      <th>age</th>\n",
       "      <th>previous_year_rating</th>\n",
       "      <th>length_of_service</th>\n",
       "      <th>KPIs_met &gt;80%</th>\n",
       "      <th>awards_won?</th>\n",
       "      <th>avg_training_score</th>\n",
       "      <th>is_promoted</th>\n",
       "    </tr>\n",
       "  </thead>\n",
       "  <tbody>\n",
       "    <tr>\n",
       "      <th>0</th>\n",
       "      <td>76466</td>\n",
       "      <td>Sales &amp; Marketing</td>\n",
       "      <td>region_31</td>\n",
       "      <td>Bachelor's</td>\n",
       "      <td>f</td>\n",
       "      <td>other</td>\n",
       "      <td>1</td>\n",
       "      <td>34</td>\n",
       "      <td>3.0</td>\n",
       "      <td>7</td>\n",
       "      <td>0</td>\n",
       "      <td>0</td>\n",
       "      <td>52</td>\n",
       "      <td>0</td>\n",
       "    </tr>\n",
       "    <tr>\n",
       "      <th>1</th>\n",
       "      <td>46459</td>\n",
       "      <td>Technology</td>\n",
       "      <td>region_2</td>\n",
       "      <td>Bachelor's</td>\n",
       "      <td>f</td>\n",
       "      <td>other</td>\n",
       "      <td>1</td>\n",
       "      <td>50</td>\n",
       "      <td>3.0</td>\n",
       "      <td>19</td>\n",
       "      <td>0</td>\n",
       "      <td>0</td>\n",
       "      <td>76</td>\n",
       "      <td>0</td>\n",
       "    </tr>\n",
       "    <tr>\n",
       "      <th>2</th>\n",
       "      <td>11890</td>\n",
       "      <td>Technology</td>\n",
       "      <td>region_7</td>\n",
       "      <td>Bachelor's</td>\n",
       "      <td>m</td>\n",
       "      <td>other</td>\n",
       "      <td>1</td>\n",
       "      <td>40</td>\n",
       "      <td>3.0</td>\n",
       "      <td>7</td>\n",
       "      <td>0</td>\n",
       "      <td>0</td>\n",
       "      <td>79</td>\n",
       "      <td>0</td>\n",
       "    </tr>\n",
       "    <tr>\n",
       "      <th>3</th>\n",
       "      <td>76483</td>\n",
       "      <td>Sales &amp; Marketing</td>\n",
       "      <td>region_2</td>\n",
       "      <td>Bachelor's</td>\n",
       "      <td>f</td>\n",
       "      <td>sourcing</td>\n",
       "      <td>1</td>\n",
       "      <td>33</td>\n",
       "      <td>5.0</td>\n",
       "      <td>6</td>\n",
       "      <td>0</td>\n",
       "      <td>0</td>\n",
       "      <td>48</td>\n",
       "      <td>0</td>\n",
       "    </tr>\n",
       "    <tr>\n",
       "      <th>4</th>\n",
       "      <td>63365</td>\n",
       "      <td>Procurement</td>\n",
       "      <td>region_17</td>\n",
       "      <td>Bachelor's</td>\n",
       "      <td>f</td>\n",
       "      <td>other</td>\n",
       "      <td>1</td>\n",
       "      <td>34</td>\n",
       "      <td>3.0</td>\n",
       "      <td>8</td>\n",
       "      <td>0</td>\n",
       "      <td>0</td>\n",
       "      <td>67</td>\n",
       "      <td>0</td>\n",
       "    </tr>\n",
       "  </tbody>\n",
       "</table>\n",
       "</div>"
      ],
      "text/plain": [
       "   employee_id         department     region   education gender  \\\n",
       "0        76466  Sales & Marketing  region_31  Bachelor's      f   \n",
       "1        46459         Technology   region_2  Bachelor's      f   \n",
       "2        11890         Technology   region_7  Bachelor's      m   \n",
       "3        76483  Sales & Marketing   region_2  Bachelor's      f   \n",
       "4        63365        Procurement  region_17  Bachelor's      f   \n",
       "\n",
       "  recruitment_channel  no_of_trainings  age  previous_year_rating  \\\n",
       "0               other                1   34                   3.0   \n",
       "1               other                1   50                   3.0   \n",
       "2               other                1   40                   3.0   \n",
       "3            sourcing                1   33                   5.0   \n",
       "4               other                1   34                   3.0   \n",
       "\n",
       "   length_of_service  KPIs_met >80%  awards_won?  avg_training_score  \\\n",
       "0                  7              0            0                  52   \n",
       "1                 19              0            0                  76   \n",
       "2                  7              0            0                  79   \n",
       "3                  6              0            0                  48   \n",
       "4                  8              0            0                  67   \n",
       "\n",
       "   is_promoted  \n",
       "0            0  \n",
       "1            0  \n",
       "2            0  \n",
       "3            0  \n",
       "4            0  "
      ]
     },
     "execution_count": 4,
     "metadata": {},
     "output_type": "execute_result"
    }
   ],
   "source": [
    "data.head()"
   ]
  },
  {
   "cell_type": "code",
   "execution_count": 5,
   "id": "774b5b46",
   "metadata": {},
   "outputs": [
    {
     "data": {
      "text/html": [
       "<div>\n",
       "<style scoped>\n",
       "    .dataframe tbody tr th:only-of-type {\n",
       "        vertical-align: middle;\n",
       "    }\n",
       "\n",
       "    .dataframe tbody tr th {\n",
       "        vertical-align: top;\n",
       "    }\n",
       "\n",
       "    .dataframe thead th {\n",
       "        text-align: right;\n",
       "    }\n",
       "</style>\n",
       "<table border=\"1\" class=\"dataframe\">\n",
       "  <thead>\n",
       "    <tr style=\"text-align: right;\">\n",
       "      <th></th>\n",
       "      <th>employee_id</th>\n",
       "      <th>department</th>\n",
       "      <th>region</th>\n",
       "      <th>education</th>\n",
       "      <th>gender</th>\n",
       "      <th>recruitment_channel</th>\n",
       "      <th>no_of_trainings</th>\n",
       "      <th>age</th>\n",
       "      <th>previous_year_rating</th>\n",
       "      <th>length_of_service</th>\n",
       "      <th>KPIs_met &gt;80%</th>\n",
       "      <th>awards_won?</th>\n",
       "      <th>avg_training_score</th>\n",
       "      <th>is_promoted</th>\n",
       "    </tr>\n",
       "  </thead>\n",
       "  <tbody>\n",
       "    <tr>\n",
       "      <th>20799</th>\n",
       "      <td>31274</td>\n",
       "      <td>Operations</td>\n",
       "      <td>region_22</td>\n",
       "      <td>Bachelor's</td>\n",
       "      <td>f</td>\n",
       "      <td>sourcing</td>\n",
       "      <td>2</td>\n",
       "      <td>34</td>\n",
       "      <td>3.0</td>\n",
       "      <td>3</td>\n",
       "      <td>1</td>\n",
       "      <td>0</td>\n",
       "      <td>64</td>\n",
       "      <td>1</td>\n",
       "    </tr>\n",
       "    <tr>\n",
       "      <th>9939</th>\n",
       "      <td>51180</td>\n",
       "      <td>Procurement</td>\n",
       "      <td>region_26</td>\n",
       "      <td>Master's &amp; above</td>\n",
       "      <td>m</td>\n",
       "      <td>other</td>\n",
       "      <td>1</td>\n",
       "      <td>40</td>\n",
       "      <td>1.0</td>\n",
       "      <td>7</td>\n",
       "      <td>0</td>\n",
       "      <td>0</td>\n",
       "      <td>70</td>\n",
       "      <td>0</td>\n",
       "    </tr>\n",
       "    <tr>\n",
       "      <th>10672</th>\n",
       "      <td>22584</td>\n",
       "      <td>Technology</td>\n",
       "      <td>region_15</td>\n",
       "      <td>Bachelor's</td>\n",
       "      <td>f</td>\n",
       "      <td>other</td>\n",
       "      <td>2</td>\n",
       "      <td>34</td>\n",
       "      <td>3.0</td>\n",
       "      <td>7</td>\n",
       "      <td>0</td>\n",
       "      <td>0</td>\n",
       "      <td>81</td>\n",
       "      <td>0</td>\n",
       "    </tr>\n",
       "    <tr>\n",
       "      <th>11961</th>\n",
       "      <td>40682</td>\n",
       "      <td>Technology</td>\n",
       "      <td>region_2</td>\n",
       "      <td>Bachelor's</td>\n",
       "      <td>m</td>\n",
       "      <td>other</td>\n",
       "      <td>1</td>\n",
       "      <td>45</td>\n",
       "      <td>2.0</td>\n",
       "      <td>18</td>\n",
       "      <td>0</td>\n",
       "      <td>0</td>\n",
       "      <td>78</td>\n",
       "      <td>0</td>\n",
       "    </tr>\n",
       "    <tr>\n",
       "      <th>3015</th>\n",
       "      <td>24992</td>\n",
       "      <td>Operations</td>\n",
       "      <td>region_15</td>\n",
       "      <td>Bachelor's</td>\n",
       "      <td>f</td>\n",
       "      <td>sourcing</td>\n",
       "      <td>1</td>\n",
       "      <td>40</td>\n",
       "      <td>5.0</td>\n",
       "      <td>7</td>\n",
       "      <td>1</td>\n",
       "      <td>0</td>\n",
       "      <td>60</td>\n",
       "      <td>0</td>\n",
       "    </tr>\n",
       "    <tr>\n",
       "      <th>20821</th>\n",
       "      <td>68925</td>\n",
       "      <td>Analytics</td>\n",
       "      <td>region_22</td>\n",
       "      <td>Master's &amp; above</td>\n",
       "      <td>m</td>\n",
       "      <td>other</td>\n",
       "      <td>2</td>\n",
       "      <td>42</td>\n",
       "      <td>3.0</td>\n",
       "      <td>4</td>\n",
       "      <td>0</td>\n",
       "      <td>0</td>\n",
       "      <td>81</td>\n",
       "      <td>0</td>\n",
       "    </tr>\n",
       "    <tr>\n",
       "      <th>19089</th>\n",
       "      <td>45052</td>\n",
       "      <td>Procurement</td>\n",
       "      <td>region_13</td>\n",
       "      <td>Master's &amp; above</td>\n",
       "      <td>f</td>\n",
       "      <td>other</td>\n",
       "      <td>2</td>\n",
       "      <td>40</td>\n",
       "      <td>3.0</td>\n",
       "      <td>12</td>\n",
       "      <td>0</td>\n",
       "      <td>0</td>\n",
       "      <td>68</td>\n",
       "      <td>0</td>\n",
       "    </tr>\n",
       "    <tr>\n",
       "      <th>35965</th>\n",
       "      <td>29550</td>\n",
       "      <td>Sales &amp; Marketing</td>\n",
       "      <td>region_29</td>\n",
       "      <td>Master's &amp; above</td>\n",
       "      <td>m</td>\n",
       "      <td>other</td>\n",
       "      <td>1</td>\n",
       "      <td>44</td>\n",
       "      <td>3.0</td>\n",
       "      <td>6</td>\n",
       "      <td>0</td>\n",
       "      <td>0</td>\n",
       "      <td>50</td>\n",
       "      <td>0</td>\n",
       "    </tr>\n",
       "    <tr>\n",
       "      <th>17211</th>\n",
       "      <td>19194</td>\n",
       "      <td>Procurement</td>\n",
       "      <td>region_22</td>\n",
       "      <td>Bachelor's</td>\n",
       "      <td>m</td>\n",
       "      <td>other</td>\n",
       "      <td>4</td>\n",
       "      <td>29</td>\n",
       "      <td>3.0</td>\n",
       "      <td>5</td>\n",
       "      <td>0</td>\n",
       "      <td>0</td>\n",
       "      <td>69</td>\n",
       "      <td>0</td>\n",
       "    </tr>\n",
       "    <tr>\n",
       "      <th>37598</th>\n",
       "      <td>54306</td>\n",
       "      <td>Sales &amp; Marketing</td>\n",
       "      <td>region_29</td>\n",
       "      <td>Bachelor's</td>\n",
       "      <td>f</td>\n",
       "      <td>other</td>\n",
       "      <td>2</td>\n",
       "      <td>29</td>\n",
       "      <td>3.0</td>\n",
       "      <td>1</td>\n",
       "      <td>0</td>\n",
       "      <td>0</td>\n",
       "      <td>49</td>\n",
       "      <td>0</td>\n",
       "    </tr>\n",
       "  </tbody>\n",
       "</table>\n",
       "</div>"
      ],
      "text/plain": [
       "       employee_id         department     region         education gender  \\\n",
       "20799        31274         Operations  region_22        Bachelor's      f   \n",
       "9939         51180        Procurement  region_26  Master's & above      m   \n",
       "10672        22584         Technology  region_15        Bachelor's      f   \n",
       "11961        40682         Technology   region_2        Bachelor's      m   \n",
       "3015         24992         Operations  region_15        Bachelor's      f   \n",
       "20821        68925          Analytics  region_22  Master's & above      m   \n",
       "19089        45052        Procurement  region_13  Master's & above      f   \n",
       "35965        29550  Sales & Marketing  region_29  Master's & above      m   \n",
       "17211        19194        Procurement  region_22        Bachelor's      m   \n",
       "37598        54306  Sales & Marketing  region_29        Bachelor's      f   \n",
       "\n",
       "      recruitment_channel  no_of_trainings  age  previous_year_rating  \\\n",
       "20799            sourcing                2   34                   3.0   \n",
       "9939                other                1   40                   1.0   \n",
       "10672               other                2   34                   3.0   \n",
       "11961               other                1   45                   2.0   \n",
       "3015             sourcing                1   40                   5.0   \n",
       "20821               other                2   42                   3.0   \n",
       "19089               other                2   40                   3.0   \n",
       "35965               other                1   44                   3.0   \n",
       "17211               other                4   29                   3.0   \n",
       "37598               other                2   29                   3.0   \n",
       "\n",
       "       length_of_service  KPIs_met >80%  awards_won?  avg_training_score  \\\n",
       "20799                  3              1            0                  64   \n",
       "9939                   7              0            0                  70   \n",
       "10672                  7              0            0                  81   \n",
       "11961                 18              0            0                  78   \n",
       "3015                   7              1            0                  60   \n",
       "20821                  4              0            0                  81   \n",
       "19089                 12              0            0                  68   \n",
       "35965                  6              0            0                  50   \n",
       "17211                  5              0            0                  69   \n",
       "37598                  1              0            0                  49   \n",
       "\n",
       "       is_promoted  \n",
       "20799            1  \n",
       "9939             0  \n",
       "10672            0  \n",
       "11961            0  \n",
       "3015             0  \n",
       "20821            0  \n",
       "19089            0  \n",
       "35965            0  \n",
       "17211            0  \n",
       "37598            0  "
      ]
     },
     "execution_count": 5,
     "metadata": {},
     "output_type": "execute_result"
    }
   ],
   "source": [
    "#random 10 columns\n",
    "data.sample(10)"
   ]
  },
  {
   "cell_type": "code",
   "execution_count": 6,
   "id": "fd0e6403",
   "metadata": {},
   "outputs": [
    {
     "data": {
      "text/plain": [
       "(43846, 14)"
      ]
     },
     "execution_count": 6,
     "metadata": {},
     "output_type": "execute_result"
    }
   ],
   "source": [
    "data.shape"
   ]
  },
  {
   "cell_type": "code",
   "execution_count": 7,
   "id": "18284a51",
   "metadata": {},
   "outputs": [
    {
     "data": {
      "text/plain": [
       "Index(['employee_id', 'department', 'region', 'education', 'gender',\n",
       "       'recruitment_channel', 'no_of_trainings', 'age', 'previous_year_rating',\n",
       "       'length_of_service', 'KPIs_met >80%', 'awards_won?',\n",
       "       'avg_training_score', 'is_promoted'],\n",
       "      dtype='object')"
      ]
     },
     "execution_count": 7,
     "metadata": {},
     "output_type": "execute_result"
    }
   ],
   "source": [
    "data.columns"
   ]
  },
  {
   "cell_type": "code",
   "execution_count": 8,
   "id": "d91c76ed",
   "metadata": {},
   "outputs": [
    {
     "name": "stdout",
     "output_type": "stream",
     "text": [
      "4.68 MB\n"
     ]
    }
   ],
   "source": [
    "# Size of data.\n",
    "\n",
    "print((data.memory_usage().sum()/(1024*1024)).round(2),\"MB\")"
   ]
  },
  {
   "cell_type": "code",
   "execution_count": 9,
   "id": "07c77682",
   "metadata": {},
   "outputs": [
    {
     "data": {
      "text/plain": [
       "43846"
      ]
     },
     "execution_count": 9,
     "metadata": {},
     "output_type": "execute_result"
    }
   ],
   "source": [
    "data.employee_id.value_counts().sum()"
   ]
  },
  {
   "cell_type": "markdown",
   "id": "190588d3",
   "metadata": {},
   "source": [
    "##### \temployee_id column is unique feature(number of columns = \temployee_id) so we can drop it"
   ]
  },
  {
   "cell_type": "code",
   "execution_count": 10,
   "id": "7563de6e",
   "metadata": {},
   "outputs": [],
   "source": [
    "data.drop(['employee_id'],axis=1,inplace=True)"
   ]
  },
  {
   "cell_type": "code",
   "execution_count": 11,
   "id": "49ac3f21",
   "metadata": {},
   "outputs": [
    {
     "data": {
      "text/html": [
       "<div>\n",
       "<style scoped>\n",
       "    .dataframe tbody tr th:only-of-type {\n",
       "        vertical-align: middle;\n",
       "    }\n",
       "\n",
       "    .dataframe tbody tr th {\n",
       "        vertical-align: top;\n",
       "    }\n",
       "\n",
       "    .dataframe thead th {\n",
       "        text-align: right;\n",
       "    }\n",
       "</style>\n",
       "<table border=\"1\" class=\"dataframe\">\n",
       "  <thead>\n",
       "    <tr style=\"text-align: right;\">\n",
       "      <th></th>\n",
       "      <th>department</th>\n",
       "      <th>region</th>\n",
       "      <th>education</th>\n",
       "      <th>gender</th>\n",
       "      <th>recruitment_channel</th>\n",
       "      <th>no_of_trainings</th>\n",
       "      <th>age</th>\n",
       "      <th>previous_year_rating</th>\n",
       "      <th>length_of_service</th>\n",
       "      <th>KPIs_met &gt;80%</th>\n",
       "      <th>awards_won?</th>\n",
       "      <th>avg_training_score</th>\n",
       "      <th>is_promoted</th>\n",
       "    </tr>\n",
       "  </thead>\n",
       "  <tbody>\n",
       "    <tr>\n",
       "      <th>0</th>\n",
       "      <td>Sales &amp; Marketing</td>\n",
       "      <td>region_31</td>\n",
       "      <td>Bachelor's</td>\n",
       "      <td>f</td>\n",
       "      <td>other</td>\n",
       "      <td>1</td>\n",
       "      <td>34</td>\n",
       "      <td>3.0</td>\n",
       "      <td>7</td>\n",
       "      <td>0</td>\n",
       "      <td>0</td>\n",
       "      <td>52</td>\n",
       "      <td>0</td>\n",
       "    </tr>\n",
       "    <tr>\n",
       "      <th>1</th>\n",
       "      <td>Technology</td>\n",
       "      <td>region_2</td>\n",
       "      <td>Bachelor's</td>\n",
       "      <td>f</td>\n",
       "      <td>other</td>\n",
       "      <td>1</td>\n",
       "      <td>50</td>\n",
       "      <td>3.0</td>\n",
       "      <td>19</td>\n",
       "      <td>0</td>\n",
       "      <td>0</td>\n",
       "      <td>76</td>\n",
       "      <td>0</td>\n",
       "    </tr>\n",
       "    <tr>\n",
       "      <th>2</th>\n",
       "      <td>Technology</td>\n",
       "      <td>region_7</td>\n",
       "      <td>Bachelor's</td>\n",
       "      <td>m</td>\n",
       "      <td>other</td>\n",
       "      <td>1</td>\n",
       "      <td>40</td>\n",
       "      <td>3.0</td>\n",
       "      <td>7</td>\n",
       "      <td>0</td>\n",
       "      <td>0</td>\n",
       "      <td>79</td>\n",
       "      <td>0</td>\n",
       "    </tr>\n",
       "    <tr>\n",
       "      <th>3</th>\n",
       "      <td>Sales &amp; Marketing</td>\n",
       "      <td>region_2</td>\n",
       "      <td>Bachelor's</td>\n",
       "      <td>f</td>\n",
       "      <td>sourcing</td>\n",
       "      <td>1</td>\n",
       "      <td>33</td>\n",
       "      <td>5.0</td>\n",
       "      <td>6</td>\n",
       "      <td>0</td>\n",
       "      <td>0</td>\n",
       "      <td>48</td>\n",
       "      <td>0</td>\n",
       "    </tr>\n",
       "    <tr>\n",
       "      <th>4</th>\n",
       "      <td>Procurement</td>\n",
       "      <td>region_17</td>\n",
       "      <td>Bachelor's</td>\n",
       "      <td>f</td>\n",
       "      <td>other</td>\n",
       "      <td>1</td>\n",
       "      <td>34</td>\n",
       "      <td>3.0</td>\n",
       "      <td>8</td>\n",
       "      <td>0</td>\n",
       "      <td>0</td>\n",
       "      <td>67</td>\n",
       "      <td>0</td>\n",
       "    </tr>\n",
       "  </tbody>\n",
       "</table>\n",
       "</div>"
      ],
      "text/plain": [
       "          department     region   education gender recruitment_channel  \\\n",
       "0  Sales & Marketing  region_31  Bachelor's      f               other   \n",
       "1         Technology   region_2  Bachelor's      f               other   \n",
       "2         Technology   region_7  Bachelor's      m               other   \n",
       "3  Sales & Marketing   region_2  Bachelor's      f            sourcing   \n",
       "4        Procurement  region_17  Bachelor's      f               other   \n",
       "\n",
       "   no_of_trainings  age  previous_year_rating  length_of_service  \\\n",
       "0                1   34                   3.0                  7   \n",
       "1                1   50                   3.0                 19   \n",
       "2                1   40                   3.0                  7   \n",
       "3                1   33                   5.0                  6   \n",
       "4                1   34                   3.0                  8   \n",
       "\n",
       "   KPIs_met >80%  awards_won?  avg_training_score  is_promoted  \n",
       "0              0            0                  52            0  \n",
       "1              0            0                  76            0  \n",
       "2              0            0                  79            0  \n",
       "3              0            0                  48            0  \n",
       "4              0            0                  67            0  "
      ]
     },
     "execution_count": 11,
     "metadata": {},
     "output_type": "execute_result"
    }
   ],
   "source": [
    "data.head()"
   ]
  },
  {
   "cell_type": "markdown",
   "id": "88363989",
   "metadata": {},
   "source": [
    "## Plan\n",
    "### Classification Problem"
   ]
  },
  {
   "cell_type": "code",
   "execution_count": 12,
   "id": "cffa8a61",
   "metadata": {
    "scrolled": true
   },
   "outputs": [
    {
     "data": {
      "text/plain": [
       "'\\nRequirements for model fitting by sklearn.\\n1. No Missing values.\\n2. No categorical columns.\\n\\n'"
      ]
     },
     "execution_count": 12,
     "metadata": {},
     "output_type": "execute_result"
    }
   ],
   "source": [
    "'''\n",
    "Requirements for model fitting by sklearn.\n",
    "1. No Missing values.\n",
    "2. No categorical columns.\n",
    "\n",
    "'''\n"
   ]
  },
  {
   "cell_type": "code",
   "execution_count": 13,
   "id": "7f501fb0",
   "metadata": {},
   "outputs": [
    {
     "data": {
      "text/plain": [
       "department                 0\n",
       "region                     0\n",
       "education               1941\n",
       "gender                     0\n",
       "recruitment_channel        0\n",
       "no_of_trainings            0\n",
       "age                        0\n",
       "previous_year_rating    3325\n",
       "length_of_service          0\n",
       "KPIs_met >80%              0\n",
       "awards_won?                0\n",
       "avg_training_score         0\n",
       "is_promoted                0\n",
       "dtype: int64"
      ]
     },
     "execution_count": 13,
     "metadata": {},
     "output_type": "execute_result"
    }
   ],
   "source": [
    "# Find and fill null values\n",
    "\n",
    "data.isnull().sum()"
   ]
  },
  {
   "cell_type": "code",
   "execution_count": 14,
   "id": "7d852509",
   "metadata": {},
   "outputs": [
    {
     "data": {
      "text/plain": [
       "department               0.000000\n",
       "region                   0.000000\n",
       "education               44.268576\n",
       "gender                   0.000000\n",
       "recruitment_channel      0.000000\n",
       "no_of_trainings          0.000000\n",
       "age                      0.000000\n",
       "previous_year_rating    75.833599\n",
       "length_of_service        0.000000\n",
       "KPIs_met >80%            0.000000\n",
       "awards_won?              0.000000\n",
       "avg_training_score       0.000000\n",
       "is_promoted              0.000000\n",
       "dtype: float64"
      ]
     },
     "execution_count": 14,
     "metadata": {},
     "output_type": "execute_result"
    }
   ],
   "source": [
    "data.isnull().mean()*1000"
   ]
  },
  {
   "cell_type": "markdown",
   "id": "c6aa18bd",
   "metadata": {},
   "source": [
    "##### previous_year_rating feature has more null values = 75%"
   ]
  },
  {
   "cell_type": "code",
   "execution_count": 15,
   "id": "52e0c289",
   "metadata": {},
   "outputs": [
    {
     "data": {
      "text/plain": [
       "department               object\n",
       "region                   object\n",
       "education                object\n",
       "gender                   object\n",
       "recruitment_channel      object\n",
       "no_of_trainings           int64\n",
       "age                       int64\n",
       "previous_year_rating    float64\n",
       "length_of_service         int64\n",
       "KPIs_met >80%             int64\n",
       "awards_won?               int64\n",
       "avg_training_score        int64\n",
       "is_promoted               int64\n",
       "dtype: object"
      ]
     },
     "execution_count": 15,
     "metadata": {},
     "output_type": "execute_result"
    }
   ],
   "source": [
    "data.dtypes"
   ]
  },
  {
   "cell_type": "code",
   "execution_count": 16,
   "id": "95defeeb",
   "metadata": {},
   "outputs": [
    {
     "data": {
      "text/plain": [
       "False    43764\n",
       "True        82\n",
       "dtype: int64"
      ]
     },
     "execution_count": 16,
     "metadata": {},
     "output_type": "execute_result"
    }
   ],
   "source": [
    "data.duplicated().value_counts()"
   ]
  },
  {
   "cell_type": "code",
   "execution_count": 17,
   "id": "44423f85",
   "metadata": {},
   "outputs": [
    {
     "data": {
      "text/plain": [
       "'\\nColumn Transformation\\n\\nsimple imputer = education , previous_year_rating  \\nordinalEncoder = education (nan = 0 ,\\'Below Secondary\\' = 1, \"Bachelor\\'s\" = 3, \"Master\\'s & above\" = 4)\\nOnehotEncoder = department , region, gender , recruitment_channel \\n\\n'"
      ]
     },
     "execution_count": 17,
     "metadata": {},
     "output_type": "execute_result"
    }
   ],
   "source": [
    "'''\n",
    "Column Transformation\n",
    "\n",
    "simple imputer = education , previous_year_rating  \n",
    "ordinalEncoder = education (nan = 0 ,'Below Secondary' = 1, \"Bachelor's\" = 3, \"Master's & above\" = 4)\n",
    "OnehotEncoder = department , region, gender , recruitment_channel \n",
    "\n",
    "'''"
   ]
  },
  {
   "cell_type": "code",
   "execution_count": 18,
   "id": "47905647",
   "metadata": {},
   "outputs": [
    {
     "data": {
      "text/plain": [
       "0              Bachelor's\n",
       "1              Bachelor's\n",
       "2              Bachelor's\n",
       "3              Bachelor's\n",
       "4              Bachelor's\n",
       "               ...       \n",
       "43841    Master's & above\n",
       "43842          Bachelor's\n",
       "43843    Master's & above\n",
       "43844          Bachelor's\n",
       "43845          Bachelor's\n",
       "Name: education, Length: 43846, dtype: object"
      ]
     },
     "execution_count": 18,
     "metadata": {},
     "output_type": "execute_result"
    }
   ],
   "source": [
    "data['education']"
   ]
  },
  {
   "cell_type": "code",
   "execution_count": 19,
   "id": "c26839f7",
   "metadata": {},
   "outputs": [],
   "source": [
    "#Filling missing values \n",
    "#1. numeric feature's missing values\n",
    "\n",
    "data.fillna(data.mean(numeric_only=True).round(1), inplace=True) "
   ]
  },
  {
   "cell_type": "code",
   "execution_count": 20,
   "id": "794e6840",
   "metadata": {},
   "outputs": [],
   "source": [
    "#2. categorical features missing values\n",
    "\n",
    "data = data.fillna(data.mode().iloc[0])"
   ]
  },
  {
   "cell_type": "code",
   "execution_count": 21,
   "id": "d7081ea6",
   "metadata": {},
   "outputs": [
    {
     "data": {
      "text/plain": [
       "department              0\n",
       "region                  0\n",
       "education               0\n",
       "gender                  0\n",
       "recruitment_channel     0\n",
       "no_of_trainings         0\n",
       "age                     0\n",
       "previous_year_rating    0\n",
       "length_of_service       0\n",
       "KPIs_met >80%           0\n",
       "awards_won?             0\n",
       "avg_training_score      0\n",
       "is_promoted             0\n",
       "dtype: int64"
      ]
     },
     "execution_count": 21,
     "metadata": {},
     "output_type": "execute_result"
    }
   ],
   "source": [
    "data.isnull().sum()"
   ]
  },
  {
   "cell_type": "code",
   "execution_count": 22,
   "id": "e80ad9dd",
   "metadata": {},
   "outputs": [],
   "source": [
    "categorical_cols = data.select_dtypes(include=['object']).columns"
   ]
  },
  {
   "cell_type": "code",
   "execution_count": 23,
   "id": "a1a93b29",
   "metadata": {},
   "outputs": [
    {
     "data": {
      "text/plain": [
       "Index(['department', 'region', 'education', 'gender', 'recruitment_channel'], dtype='object')"
      ]
     },
     "execution_count": 23,
     "metadata": {},
     "output_type": "execute_result"
    }
   ],
   "source": [
    "categorical_cols"
   ]
  },
  {
   "cell_type": "code",
   "execution_count": 24,
   "id": "77f777e6",
   "metadata": {},
   "outputs": [],
   "source": [
    "data = pd.get_dummies(data, columns=categorical_cols, drop_first=True)"
   ]
  },
  {
   "cell_type": "code",
   "execution_count": 25,
   "id": "7616c848",
   "metadata": {},
   "outputs": [
    {
     "data": {
      "text/html": [
       "<div>\n",
       "<style scoped>\n",
       "    .dataframe tbody tr th:only-of-type {\n",
       "        vertical-align: middle;\n",
       "    }\n",
       "\n",
       "    .dataframe tbody tr th {\n",
       "        vertical-align: top;\n",
       "    }\n",
       "\n",
       "    .dataframe thead th {\n",
       "        text-align: right;\n",
       "    }\n",
       "</style>\n",
       "<table border=\"1\" class=\"dataframe\">\n",
       "  <thead>\n",
       "    <tr style=\"text-align: right;\">\n",
       "      <th></th>\n",
       "      <th>no_of_trainings</th>\n",
       "      <th>age</th>\n",
       "      <th>previous_year_rating</th>\n",
       "      <th>length_of_service</th>\n",
       "      <th>KPIs_met &gt;80%</th>\n",
       "      <th>awards_won?</th>\n",
       "      <th>avg_training_score</th>\n",
       "      <th>is_promoted</th>\n",
       "      <th>department_Finance</th>\n",
       "      <th>department_HR</th>\n",
       "      <th>...</th>\n",
       "      <th>region_region_5</th>\n",
       "      <th>region_region_6</th>\n",
       "      <th>region_region_7</th>\n",
       "      <th>region_region_8</th>\n",
       "      <th>region_region_9</th>\n",
       "      <th>education_Below Secondary</th>\n",
       "      <th>education_Master's &amp; above</th>\n",
       "      <th>gender_m</th>\n",
       "      <th>recruitment_channel_referred</th>\n",
       "      <th>recruitment_channel_sourcing</th>\n",
       "    </tr>\n",
       "  </thead>\n",
       "  <tbody>\n",
       "    <tr>\n",
       "      <th>0</th>\n",
       "      <td>1</td>\n",
       "      <td>34</td>\n",
       "      <td>3.0</td>\n",
       "      <td>7</td>\n",
       "      <td>0</td>\n",
       "      <td>0</td>\n",
       "      <td>52</td>\n",
       "      <td>0</td>\n",
       "      <td>0</td>\n",
       "      <td>0</td>\n",
       "      <td>...</td>\n",
       "      <td>0</td>\n",
       "      <td>0</td>\n",
       "      <td>0</td>\n",
       "      <td>0</td>\n",
       "      <td>0</td>\n",
       "      <td>0</td>\n",
       "      <td>0</td>\n",
       "      <td>0</td>\n",
       "      <td>0</td>\n",
       "      <td>0</td>\n",
       "    </tr>\n",
       "    <tr>\n",
       "      <th>1</th>\n",
       "      <td>1</td>\n",
       "      <td>50</td>\n",
       "      <td>3.0</td>\n",
       "      <td>19</td>\n",
       "      <td>0</td>\n",
       "      <td>0</td>\n",
       "      <td>76</td>\n",
       "      <td>0</td>\n",
       "      <td>0</td>\n",
       "      <td>0</td>\n",
       "      <td>...</td>\n",
       "      <td>0</td>\n",
       "      <td>0</td>\n",
       "      <td>0</td>\n",
       "      <td>0</td>\n",
       "      <td>0</td>\n",
       "      <td>0</td>\n",
       "      <td>0</td>\n",
       "      <td>0</td>\n",
       "      <td>0</td>\n",
       "      <td>0</td>\n",
       "    </tr>\n",
       "    <tr>\n",
       "      <th>2</th>\n",
       "      <td>1</td>\n",
       "      <td>40</td>\n",
       "      <td>3.0</td>\n",
       "      <td>7</td>\n",
       "      <td>0</td>\n",
       "      <td>0</td>\n",
       "      <td>79</td>\n",
       "      <td>0</td>\n",
       "      <td>0</td>\n",
       "      <td>0</td>\n",
       "      <td>...</td>\n",
       "      <td>0</td>\n",
       "      <td>0</td>\n",
       "      <td>1</td>\n",
       "      <td>0</td>\n",
       "      <td>0</td>\n",
       "      <td>0</td>\n",
       "      <td>0</td>\n",
       "      <td>1</td>\n",
       "      <td>0</td>\n",
       "      <td>0</td>\n",
       "    </tr>\n",
       "    <tr>\n",
       "      <th>3</th>\n",
       "      <td>1</td>\n",
       "      <td>33</td>\n",
       "      <td>5.0</td>\n",
       "      <td>6</td>\n",
       "      <td>0</td>\n",
       "      <td>0</td>\n",
       "      <td>48</td>\n",
       "      <td>0</td>\n",
       "      <td>0</td>\n",
       "      <td>0</td>\n",
       "      <td>...</td>\n",
       "      <td>0</td>\n",
       "      <td>0</td>\n",
       "      <td>0</td>\n",
       "      <td>0</td>\n",
       "      <td>0</td>\n",
       "      <td>0</td>\n",
       "      <td>0</td>\n",
       "      <td>0</td>\n",
       "      <td>0</td>\n",
       "      <td>1</td>\n",
       "    </tr>\n",
       "    <tr>\n",
       "      <th>4</th>\n",
       "      <td>1</td>\n",
       "      <td>34</td>\n",
       "      <td>3.0</td>\n",
       "      <td>8</td>\n",
       "      <td>0</td>\n",
       "      <td>0</td>\n",
       "      <td>67</td>\n",
       "      <td>0</td>\n",
       "      <td>0</td>\n",
       "      <td>0</td>\n",
       "      <td>...</td>\n",
       "      <td>0</td>\n",
       "      <td>0</td>\n",
       "      <td>0</td>\n",
       "      <td>0</td>\n",
       "      <td>0</td>\n",
       "      <td>0</td>\n",
       "      <td>0</td>\n",
       "      <td>0</td>\n",
       "      <td>0</td>\n",
       "      <td>0</td>\n",
       "    </tr>\n",
       "  </tbody>\n",
       "</table>\n",
       "<p>5 rows × 54 columns</p>\n",
       "</div>"
      ],
      "text/plain": [
       "   no_of_trainings  age  previous_year_rating  length_of_service  \\\n",
       "0                1   34                   3.0                  7   \n",
       "1                1   50                   3.0                 19   \n",
       "2                1   40                   3.0                  7   \n",
       "3                1   33                   5.0                  6   \n",
       "4                1   34                   3.0                  8   \n",
       "\n",
       "   KPIs_met >80%  awards_won?  avg_training_score  is_promoted  \\\n",
       "0              0            0                  52            0   \n",
       "1              0            0                  76            0   \n",
       "2              0            0                  79            0   \n",
       "3              0            0                  48            0   \n",
       "4              0            0                  67            0   \n",
       "\n",
       "   department_Finance  department_HR  ...  region_region_5  region_region_6  \\\n",
       "0                   0              0  ...                0                0   \n",
       "1                   0              0  ...                0                0   \n",
       "2                   0              0  ...                0                0   \n",
       "3                   0              0  ...                0                0   \n",
       "4                   0              0  ...                0                0   \n",
       "\n",
       "   region_region_7  region_region_8  region_region_9  \\\n",
       "0                0                0                0   \n",
       "1                0                0                0   \n",
       "2                1                0                0   \n",
       "3                0                0                0   \n",
       "4                0                0                0   \n",
       "\n",
       "   education_Below Secondary  education_Master's & above  gender_m  \\\n",
       "0                          0                           0         0   \n",
       "1                          0                           0         0   \n",
       "2                          0                           0         1   \n",
       "3                          0                           0         0   \n",
       "4                          0                           0         0   \n",
       "\n",
       "   recruitment_channel_referred  recruitment_channel_sourcing  \n",
       "0                             0                             0  \n",
       "1                             0                             0  \n",
       "2                             0                             0  \n",
       "3                             0                             1  \n",
       "4                             0                             0  \n",
       "\n",
       "[5 rows x 54 columns]"
      ]
     },
     "execution_count": 25,
     "metadata": {},
     "output_type": "execute_result"
    }
   ],
   "source": [
    "data.head()"
   ]
  },
  {
   "cell_type": "code",
   "execution_count": 26,
   "id": "d1a24248",
   "metadata": {},
   "outputs": [],
   "source": [
    "# Data spiliting\n",
    "train_size = 35076\n",
    "test_size = 4385\n",
    "holdout_size = 4385\n",
    "\n",
    "temp_x,holdout_x,temp_y,holdout_y  = train_test_split(data.drop(['is_promoted'],axis=1), data['is_promoted'] , test_size=holdout_size, random_state=121, stratify = data['is_promoted'] )"
   ]
  },
  {
   "cell_type": "code",
   "execution_count": 27,
   "id": "93f33ebb",
   "metadata": {},
   "outputs": [
    {
     "data": {
      "text/plain": [
       "((39461, 53), (4385, 53))"
      ]
     },
     "execution_count": 27,
     "metadata": {},
     "output_type": "execute_result"
    }
   ],
   "source": [
    "temp_x.shape , holdout_x.shape"
   ]
  },
  {
   "cell_type": "code",
   "execution_count": 28,
   "id": "3915b2c5",
   "metadata": {},
   "outputs": [],
   "source": [
    "train_x,test_x,train_y,test_y = train_test_split(temp_x,temp_y , test_size = test_size , random_state=121)"
   ]
  },
  {
   "cell_type": "code",
   "execution_count": 29,
   "id": "63f574fe",
   "metadata": {},
   "outputs": [
    {
     "data": {
      "text/plain": [
       "((35076, 53), (4385, 53), (4385, 53))"
      ]
     },
     "execution_count": 29,
     "metadata": {},
     "output_type": "execute_result"
    }
   ],
   "source": [
    "train_x.shape , test_x.shape , holdout_x.shape"
   ]
  },
  {
   "cell_type": "code",
   "execution_count": 42,
   "id": "7e2c7e59",
   "metadata": {},
   "outputs": [
    {
     "data": {
      "text/plain": [
       "0.08498688561979702"
      ]
     },
     "execution_count": 42,
     "metadata": {},
     "output_type": "execute_result"
    }
   ],
   "source": [
    "train_y.sum()/train_y.shape[0]"
   ]
  },
  {
   "cell_type": "code",
   "execution_count": 43,
   "id": "6ab17509",
   "metadata": {},
   "outputs": [
    {
     "data": {
      "text/plain": [
       "0.08665906499429875"
      ]
     },
     "execution_count": 43,
     "metadata": {},
     "output_type": "execute_result"
    }
   ],
   "source": [
    "test_y.sum()/test_y.shape[0]"
   ]
  },
  {
   "cell_type": "markdown",
   "id": "ad1787e9",
   "metadata": {},
   "source": [
    "## baseline model fitting"
   ]
  },
  {
   "cell_type": "code",
   "execution_count": 30,
   "id": "cc257975",
   "metadata": {},
   "outputs": [],
   "source": [
    "#2 - Decision Tree Classifier gives better f1 score so we go with Decision tree Classifier\n",
    "\n",
    "model = DecisionTreeClassifier()"
   ]
  },
  {
   "cell_type": "code",
   "execution_count": 31,
   "id": "3f5040f6",
   "metadata": {},
   "outputs": [
    {
     "data": {
      "text/plain": [
       "DecisionTreeClassifier()"
      ]
     },
     "execution_count": 31,
     "metadata": {},
     "output_type": "execute_result"
    }
   ],
   "source": [
    "model.fit(train_x,train_y)"
   ]
  },
  {
   "cell_type": "code",
   "execution_count": 32,
   "id": "cbadc5e7",
   "metadata": {},
   "outputs": [],
   "source": [
    "test_pred = model.predict(test_x)"
   ]
  },
  {
   "cell_type": "code",
   "execution_count": 33,
   "id": "9be1fb06",
   "metadata": {},
   "outputs": [
    {
     "data": {
      "text/plain": [
       "array([1, 0, 0, ..., 0, 0, 0], dtype=int64)"
      ]
     },
     "execution_count": 33,
     "metadata": {},
     "output_type": "execute_result"
    }
   ],
   "source": [
    "test_pred"
   ]
  },
  {
   "cell_type": "code",
   "execution_count": 34,
   "id": "eac47e48",
   "metadata": {},
   "outputs": [
    {
     "name": "stdout",
     "output_type": "stream",
     "text": [
      "              precision    recall  f1-score   support\n",
      "\n",
      "           0       0.95      0.94      0.94      4005\n",
      "           1       0.41      0.44      0.43       380\n",
      "\n",
      "    accuracy                           0.90      4385\n",
      "   macro avg       0.68      0.69      0.68      4385\n",
      "weighted avg       0.90      0.90      0.90      4385\n",
      "\n"
     ]
    }
   ],
   "source": [
    "print(classification_report(test_y,test_pred)) "
   ]
  },
  {
   "cell_type": "code",
   "execution_count": 35,
   "id": "531e39c2",
   "metadata": {},
   "outputs": [],
   "source": [
    "holdout_pred = model.predict(holdout_x)"
   ]
  },
  {
   "cell_type": "code",
   "execution_count": 36,
   "id": "83b85a43",
   "metadata": {},
   "outputs": [
    {
     "name": "stdout",
     "output_type": "stream",
     "text": [
      "              precision    recall  f1-score   support\n",
      "\n",
      "           0       0.94      0.94      0.94      4012\n",
      "           1       0.38      0.40      0.39       373\n",
      "\n",
      "    accuracy                           0.89      4385\n",
      "   macro avg       0.66      0.67      0.66      4385\n",
      "weighted avg       0.90      0.89      0.89      4385\n",
      "\n"
     ]
    }
   ],
   "source": [
    "print(classification_report(holdout_y,holdout_pred)) "
   ]
  },
  {
   "cell_type": "code",
   "execution_count": 37,
   "id": "ed13dee9",
   "metadata": {},
   "outputs": [],
   "source": [
    "train_pred = model.predict(train_x)"
   ]
  },
  {
   "cell_type": "code",
   "execution_count": 38,
   "id": "79174788",
   "metadata": {},
   "outputs": [
    {
     "name": "stdout",
     "output_type": "stream",
     "text": [
      "              precision    recall  f1-score   support\n",
      "\n",
      "           0       1.00      1.00      1.00     32095\n",
      "           1       1.00      1.00      1.00      2981\n",
      "\n",
      "    accuracy                           1.00     35076\n",
      "   macro avg       1.00      1.00      1.00     35076\n",
      "weighted avg       1.00      1.00      1.00     35076\n",
      "\n"
     ]
    }
   ],
   "source": [
    "print(classification_report(train_y,train_pred)) "
   ]
  },
  {
   "cell_type": "code",
   "execution_count": 39,
   "id": "54b5fe75",
   "metadata": {},
   "outputs": [
    {
     "data": {
      "image/png": "[encoded data removed]",
      "text/plain": [
       "<Figure size 2000x1000 with 1 Axes>"
      ]
     },
     "metadata": {},
     "output_type": "display_data"
    }
   ],
   "source": [
    "import matplotlib.pyplot as plt\n",
    "plt.figure(figsize=(20,10))\n",
    "plot_tree(model,feature_names=data.drop('is_promoted',axis=1).columns,max_depth = 2,filled=True,class_names = True)\n",
    "plt.show()"
   ]
  },
  {
   "cell_type": "markdown",
   "id": "c5321e28",
   "metadata": {},
   "source": [
    "####  This is the baseline solution. Preprocessing is avoided because to represent True Decision Tree. It can be done in iterative solution to incrase accuracy "
   ]
  },
  {
   "cell_type": "code",
   "execution_count": null,
   "id": "45db0237",
   "metadata": {},
   "outputs": [],
   "source": []
  }
 ],
 "metadata": {
  "kernelspec": {
   "display_name": "Python 3 (ipykernel)",
   "language": "python",
   "name": "python3"
  },
  "language_info": {
   "codemirror_mode": {
    "name": "ipython",
    "version": 3
   },
   "file_extension": ".py",
   "mimetype": "text/x-python",
   "name": "python",
   "nbconvert_exporter": "python",
   "pygments_lexer": "ipython3",
   "version": "3.9.13"
  }
 },
 "nbformat": 4,
 "nbformat_minor": 5
}
