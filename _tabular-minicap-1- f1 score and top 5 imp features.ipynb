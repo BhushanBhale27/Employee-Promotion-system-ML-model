{
 "cells": [
  {
   "cell_type": "markdown",
   "id": "8dacccfc",
   "metadata": {},
   "source": [
    "# iteative solution"
   ]
  },
  {
   "cell_type": "code",
   "execution_count": 5,
   "id": "5306d57d",
   "metadata": {},
   "outputs": [],
   "source": [
    "import pandas as pd\n",
    "import numpy as np\n",
    "from sklearn.model_selection import train_test_split\n",
    "from sklearn.compose import ColumnTransformer\n",
    "from sklearn.metrics import classification_report\n",
    "from sklearn.linear_model import LogisticRegression\n",
    "from sklearn.tree import DecisionTreeClassifier\n",
    "from sklearn.naive_bayes import GaussianNB\n",
    "from sklearn.neighbors import KNeighborsClassifier\n",
    "from sklearn.impute import SimpleImputer\n",
    "from sklearn.preprocessing import OrdinalEncoder , OneHotEncoder\n",
    "from sklearn.tree import *\n",
    "from sklearn.model_selection import RandomizedSearchCV\n",
    "from sklearn.ensemble import RandomForestClassifier"
   ]
  },
  {
   "cell_type": "code",
   "execution_count": 6,
   "id": "ed067187",
   "metadata": {},
   "outputs": [],
   "source": [
    "pd.set_option('display.max_rows', 500)"
   ]
  },
  {
   "cell_type": "code",
   "execution_count": 7,
   "id": "b54a2503",
   "metadata": {},
   "outputs": [],
   "source": [
    "data = pd.read_csv(\"C:\\\\Users\\\\Asus\\\\Downloads\\\\tabular-minicap-1-main\\\\tabular-minicap-1-main\\\\train.csv\")"
   ]
  },
  {
   "cell_type": "code",
   "execution_count": 8,
   "id": "e201de91",
   "metadata": {},
   "outputs": [
    {
     "data": {
      "text/html": [
       "<div>\n",
       "<style scoped>\n",
       "    .dataframe tbody tr th:only-of-type {\n",
       "        vertical-align: middle;\n",
       "    }\n",
       "\n",
       "    .dataframe tbody tr th {\n",
       "        vertical-align: top;\n",
       "    }\n",
       "\n",
       "    .dataframe thead th {\n",
       "        text-align: right;\n",
       "    }\n",
       "</style>\n",
       "<table border=\"1\" class=\"dataframe\">\n",
       "  <thead>\n",
       "    <tr style=\"text-align: right;\">\n",
       "      <th></th>\n",
       "      <th>employee_id</th>\n",
       "      <th>department</th>\n",
       "      <th>region</th>\n",
       "      <th>education</th>\n",
       "      <th>gender</th>\n",
       "      <th>recruitment_channel</th>\n",
       "      <th>no_of_trainings</th>\n",
       "      <th>age</th>\n",
       "      <th>previous_year_rating</th>\n",
       "      <th>length_of_service</th>\n",
       "      <th>KPIs_met &gt;80%</th>\n",
       "      <th>awards_won?</th>\n",
       "      <th>avg_training_score</th>\n",
       "      <th>is_promoted</th>\n",
       "    </tr>\n",
       "  </thead>\n",
       "  <tbody>\n",
       "    <tr>\n",
       "      <th>0</th>\n",
       "      <td>76466</td>\n",
       "      <td>Sales &amp; Marketing</td>\n",
       "      <td>region_31</td>\n",
       "      <td>Bachelor's</td>\n",
       "      <td>f</td>\n",
       "      <td>other</td>\n",
       "      <td>1</td>\n",
       "      <td>34</td>\n",
       "      <td>3.0</td>\n",
       "      <td>7</td>\n",
       "      <td>0</td>\n",
       "      <td>0</td>\n",
       "      <td>52</td>\n",
       "      <td>0</td>\n",
       "    </tr>\n",
       "    <tr>\n",
       "      <th>1</th>\n",
       "      <td>46459</td>\n",
       "      <td>Technology</td>\n",
       "      <td>region_2</td>\n",
       "      <td>Bachelor's</td>\n",
       "      <td>f</td>\n",
       "      <td>other</td>\n",
       "      <td>1</td>\n",
       "      <td>50</td>\n",
       "      <td>3.0</td>\n",
       "      <td>19</td>\n",
       "      <td>0</td>\n",
       "      <td>0</td>\n",
       "      <td>76</td>\n",
       "      <td>0</td>\n",
       "    </tr>\n",
       "    <tr>\n",
       "      <th>2</th>\n",
       "      <td>11890</td>\n",
       "      <td>Technology</td>\n",
       "      <td>region_7</td>\n",
       "      <td>Bachelor's</td>\n",
       "      <td>m</td>\n",
       "      <td>other</td>\n",
       "      <td>1</td>\n",
       "      <td>40</td>\n",
       "      <td>3.0</td>\n",
       "      <td>7</td>\n",
       "      <td>0</td>\n",
       "      <td>0</td>\n",
       "      <td>79</td>\n",
       "      <td>0</td>\n",
       "    </tr>\n",
       "    <tr>\n",
       "      <th>3</th>\n",
       "      <td>76483</td>\n",
       "      <td>Sales &amp; Marketing</td>\n",
       "      <td>region_2</td>\n",
       "      <td>Bachelor's</td>\n",
       "      <td>f</td>\n",
       "      <td>sourcing</td>\n",
       "      <td>1</td>\n",
       "      <td>33</td>\n",
       "      <td>5.0</td>\n",
       "      <td>6</td>\n",
       "      <td>0</td>\n",
       "      <td>0</td>\n",
       "      <td>48</td>\n",
       "      <td>0</td>\n",
       "    </tr>\n",
       "    <tr>\n",
       "      <th>4</th>\n",
       "      <td>63365</td>\n",
       "      <td>Procurement</td>\n",
       "      <td>region_17</td>\n",
       "      <td>Bachelor's</td>\n",
       "      <td>f</td>\n",
       "      <td>other</td>\n",
       "      <td>1</td>\n",
       "      <td>34</td>\n",
       "      <td>3.0</td>\n",
       "      <td>8</td>\n",
       "      <td>0</td>\n",
       "      <td>0</td>\n",
       "      <td>67</td>\n",
       "      <td>0</td>\n",
       "    </tr>\n",
       "  </tbody>\n",
       "</table>\n",
       "</div>"
      ],
      "text/plain": [
       "   employee_id         department     region   education gender  \\\n",
       "0        76466  Sales & Marketing  region_31  Bachelor's      f   \n",
       "1        46459         Technology   region_2  Bachelor's      f   \n",
       "2        11890         Technology   region_7  Bachelor's      m   \n",
       "3        76483  Sales & Marketing   region_2  Bachelor's      f   \n",
       "4        63365        Procurement  region_17  Bachelor's      f   \n",
       "\n",
       "  recruitment_channel  no_of_trainings  age  previous_year_rating  \\\n",
       "0               other                1   34                   3.0   \n",
       "1               other                1   50                   3.0   \n",
       "2               other                1   40                   3.0   \n",
       "3            sourcing                1   33                   5.0   \n",
       "4               other                1   34                   3.0   \n",
       "\n",
       "   length_of_service  KPIs_met >80%  awards_won?  avg_training_score  \\\n",
       "0                  7              0            0                  52   \n",
       "1                 19              0            0                  76   \n",
       "2                  7              0            0                  79   \n",
       "3                  6              0            0                  48   \n",
       "4                  8              0            0                  67   \n",
       "\n",
       "   is_promoted  \n",
       "0            0  \n",
       "1            0  \n",
       "2            0  \n",
       "3            0  \n",
       "4            0  "
      ]
     },
     "execution_count": 8,
     "metadata": {},
     "output_type": "execute_result"
    }
   ],
   "source": [
    "data.head()"
   ]
  },
  {
   "cell_type": "code",
   "execution_count": 9,
   "id": "8de9adfc",
   "metadata": {},
   "outputs": [],
   "source": [
    "data_test = pd.read_csv(\"C:\\\\Users\\\\Asus\\\\Downloads\\\\tabular-minicap-1-main\\\\tabular-minicap-1-main\\\\test.csv\")"
   ]
  },
  {
   "cell_type": "code",
   "execution_count": 10,
   "id": "bd5ae8e4",
   "metadata": {},
   "outputs": [
    {
     "data": {
      "text/html": [
       "<div>\n",
       "<style scoped>\n",
       "    .dataframe tbody tr th:only-of-type {\n",
       "        vertical-align: middle;\n",
       "    }\n",
       "\n",
       "    .dataframe tbody tr th {\n",
       "        vertical-align: top;\n",
       "    }\n",
       "\n",
       "    .dataframe thead th {\n",
       "        text-align: right;\n",
       "    }\n",
       "</style>\n",
       "<table border=\"1\" class=\"dataframe\">\n",
       "  <thead>\n",
       "    <tr style=\"text-align: right;\">\n",
       "      <th></th>\n",
       "      <th>employee_id</th>\n",
       "      <th>department</th>\n",
       "      <th>region</th>\n",
       "      <th>education</th>\n",
       "      <th>gender</th>\n",
       "      <th>recruitment_channel</th>\n",
       "      <th>no_of_trainings</th>\n",
       "      <th>age</th>\n",
       "      <th>previous_year_rating</th>\n",
       "      <th>length_of_service</th>\n",
       "      <th>KPIs_met &gt;80%</th>\n",
       "      <th>awards_won?</th>\n",
       "      <th>avg_training_score</th>\n",
       "    </tr>\n",
       "  </thead>\n",
       "  <tbody>\n",
       "    <tr>\n",
       "      <th>0</th>\n",
       "      <td>13463</td>\n",
       "      <td>Technology</td>\n",
       "      <td>region_7</td>\n",
       "      <td>Bachelor's</td>\n",
       "      <td>m</td>\n",
       "      <td>sourcing</td>\n",
       "      <td>1</td>\n",
       "      <td>33</td>\n",
       "      <td>4.0</td>\n",
       "      <td>7</td>\n",
       "      <td>0</td>\n",
       "      <td>0</td>\n",
       "      <td>79</td>\n",
       "    </tr>\n",
       "    <tr>\n",
       "      <th>1</th>\n",
       "      <td>16160</td>\n",
       "      <td>Technology</td>\n",
       "      <td>region_23</td>\n",
       "      <td>Bachelor's</td>\n",
       "      <td>m</td>\n",
       "      <td>other</td>\n",
       "      <td>1</td>\n",
       "      <td>40</td>\n",
       "      <td>3.0</td>\n",
       "      <td>5</td>\n",
       "      <td>1</td>\n",
       "      <td>1</td>\n",
       "      <td>79</td>\n",
       "    </tr>\n",
       "    <tr>\n",
       "      <th>2</th>\n",
       "      <td>15840</td>\n",
       "      <td>Analytics</td>\n",
       "      <td>region_19</td>\n",
       "      <td>Bachelor's</td>\n",
       "      <td>m</td>\n",
       "      <td>other</td>\n",
       "      <td>1</td>\n",
       "      <td>40</td>\n",
       "      <td>3.0</td>\n",
       "      <td>5</td>\n",
       "      <td>0</td>\n",
       "      <td>0</td>\n",
       "      <td>86</td>\n",
       "    </tr>\n",
       "    <tr>\n",
       "      <th>3</th>\n",
       "      <td>28325</td>\n",
       "      <td>Procurement</td>\n",
       "      <td>region_27</td>\n",
       "      <td>Bachelor's</td>\n",
       "      <td>f</td>\n",
       "      <td>sourcing</td>\n",
       "      <td>3</td>\n",
       "      <td>26</td>\n",
       "      <td>3.0</td>\n",
       "      <td>2</td>\n",
       "      <td>1</td>\n",
       "      <td>1</td>\n",
       "      <td>69</td>\n",
       "    </tr>\n",
       "    <tr>\n",
       "      <th>4</th>\n",
       "      <td>23651</td>\n",
       "      <td>Sales &amp; Marketing</td>\n",
       "      <td>region_6</td>\n",
       "      <td>Bachelor's</td>\n",
       "      <td>m</td>\n",
       "      <td>sourcing</td>\n",
       "      <td>1</td>\n",
       "      <td>29</td>\n",
       "      <td>4.0</td>\n",
       "      <td>6</td>\n",
       "      <td>0</td>\n",
       "      <td>0</td>\n",
       "      <td>50</td>\n",
       "    </tr>\n",
       "  </tbody>\n",
       "</table>\n",
       "</div>"
      ],
      "text/plain": [
       "   employee_id         department     region   education gender  \\\n",
       "0        13463         Technology   region_7  Bachelor's      m   \n",
       "1        16160         Technology  region_23  Bachelor's      m   \n",
       "2        15840          Analytics  region_19  Bachelor's      m   \n",
       "3        28325        Procurement  region_27  Bachelor's      f   \n",
       "4        23651  Sales & Marketing   region_6  Bachelor's      m   \n",
       "\n",
       "  recruitment_channel  no_of_trainings  age  previous_year_rating  \\\n",
       "0            sourcing                1   33                   4.0   \n",
       "1               other                1   40                   3.0   \n",
       "2               other                1   40                   3.0   \n",
       "3            sourcing                3   26                   3.0   \n",
       "4            sourcing                1   29                   4.0   \n",
       "\n",
       "   length_of_service  KPIs_met >80%  awards_won?  avg_training_score  \n",
       "0                  7              0            0                  79  \n",
       "1                  5              1            1                  79  \n",
       "2                  5              0            0                  86  \n",
       "3                  2              1            1                  69  \n",
       "4                  6              0            0                  50  "
      ]
     },
     "execution_count": 10,
     "metadata": {},
     "output_type": "execute_result"
    }
   ],
   "source": [
    "data_test.head()"
   ]
  },
  {
   "cell_type": "code",
   "execution_count": 11,
   "id": "b72e2bae",
   "metadata": {},
   "outputs": [],
   "source": [
    "data_test.drop([\"employee_id\"],axis=1,inplace=True)"
   ]
  },
  {
   "cell_type": "code",
   "execution_count": 12,
   "id": "bafa1924",
   "metadata": {},
   "outputs": [
    {
     "data": {
      "text/html": [
       "<div>\n",
       "<style scoped>\n",
       "    .dataframe tbody tr th:only-of-type {\n",
       "        vertical-align: middle;\n",
       "    }\n",
       "\n",
       "    .dataframe tbody tr th {\n",
       "        vertical-align: top;\n",
       "    }\n",
       "\n",
       "    .dataframe thead th {\n",
       "        text-align: right;\n",
       "    }\n",
       "</style>\n",
       "<table border=\"1\" class=\"dataframe\">\n",
       "  <thead>\n",
       "    <tr style=\"text-align: right;\">\n",
       "      <th></th>\n",
       "      <th>department</th>\n",
       "      <th>region</th>\n",
       "      <th>education</th>\n",
       "      <th>gender</th>\n",
       "      <th>recruitment_channel</th>\n",
       "      <th>no_of_trainings</th>\n",
       "      <th>age</th>\n",
       "      <th>previous_year_rating</th>\n",
       "      <th>length_of_service</th>\n",
       "      <th>KPIs_met &gt;80%</th>\n",
       "      <th>awards_won?</th>\n",
       "      <th>avg_training_score</th>\n",
       "    </tr>\n",
       "  </thead>\n",
       "  <tbody>\n",
       "    <tr>\n",
       "      <th>0</th>\n",
       "      <td>Technology</td>\n",
       "      <td>region_7</td>\n",
       "      <td>Bachelor's</td>\n",
       "      <td>m</td>\n",
       "      <td>sourcing</td>\n",
       "      <td>1</td>\n",
       "      <td>33</td>\n",
       "      <td>4.0</td>\n",
       "      <td>7</td>\n",
       "      <td>0</td>\n",
       "      <td>0</td>\n",
       "      <td>79</td>\n",
       "    </tr>\n",
       "    <tr>\n",
       "      <th>1</th>\n",
       "      <td>Technology</td>\n",
       "      <td>region_23</td>\n",
       "      <td>Bachelor's</td>\n",
       "      <td>m</td>\n",
       "      <td>other</td>\n",
       "      <td>1</td>\n",
       "      <td>40</td>\n",
       "      <td>3.0</td>\n",
       "      <td>5</td>\n",
       "      <td>1</td>\n",
       "      <td>1</td>\n",
       "      <td>79</td>\n",
       "    </tr>\n",
       "    <tr>\n",
       "      <th>2</th>\n",
       "      <td>Analytics</td>\n",
       "      <td>region_19</td>\n",
       "      <td>Bachelor's</td>\n",
       "      <td>m</td>\n",
       "      <td>other</td>\n",
       "      <td>1</td>\n",
       "      <td>40</td>\n",
       "      <td>3.0</td>\n",
       "      <td>5</td>\n",
       "      <td>0</td>\n",
       "      <td>0</td>\n",
       "      <td>86</td>\n",
       "    </tr>\n",
       "    <tr>\n",
       "      <th>3</th>\n",
       "      <td>Procurement</td>\n",
       "      <td>region_27</td>\n",
       "      <td>Bachelor's</td>\n",
       "      <td>f</td>\n",
       "      <td>sourcing</td>\n",
       "      <td>3</td>\n",
       "      <td>26</td>\n",
       "      <td>3.0</td>\n",
       "      <td>2</td>\n",
       "      <td>1</td>\n",
       "      <td>1</td>\n",
       "      <td>69</td>\n",
       "    </tr>\n",
       "    <tr>\n",
       "      <th>4</th>\n",
       "      <td>Sales &amp; Marketing</td>\n",
       "      <td>region_6</td>\n",
       "      <td>Bachelor's</td>\n",
       "      <td>m</td>\n",
       "      <td>sourcing</td>\n",
       "      <td>1</td>\n",
       "      <td>29</td>\n",
       "      <td>4.0</td>\n",
       "      <td>6</td>\n",
       "      <td>0</td>\n",
       "      <td>0</td>\n",
       "      <td>50</td>\n",
       "    </tr>\n",
       "  </tbody>\n",
       "</table>\n",
       "</div>"
      ],
      "text/plain": [
       "          department     region   education gender recruitment_channel  \\\n",
       "0         Technology   region_7  Bachelor's      m            sourcing   \n",
       "1         Technology  region_23  Bachelor's      m               other   \n",
       "2          Analytics  region_19  Bachelor's      m               other   \n",
       "3        Procurement  region_27  Bachelor's      f            sourcing   \n",
       "4  Sales & Marketing   region_6  Bachelor's      m            sourcing   \n",
       "\n",
       "   no_of_trainings  age  previous_year_rating  length_of_service  \\\n",
       "0                1   33                   4.0                  7   \n",
       "1                1   40                   3.0                  5   \n",
       "2                1   40                   3.0                  5   \n",
       "3                3   26                   3.0                  2   \n",
       "4                1   29                   4.0                  6   \n",
       "\n",
       "   KPIs_met >80%  awards_won?  avg_training_score  \n",
       "0              0            0                  79  \n",
       "1              1            1                  79  \n",
       "2              0            0                  86  \n",
       "3              1            1                  69  \n",
       "4              0            0                  50  "
      ]
     },
     "execution_count": 12,
     "metadata": {},
     "output_type": "execute_result"
    }
   ],
   "source": [
    "data_test.head()"
   ]
  },
  {
   "cell_type": "code",
   "execution_count": 13,
   "id": "a26866d5",
   "metadata": {},
   "outputs": [],
   "source": [
    "test_categorical_cols = data_test.select_dtypes(include=['object']).columns"
   ]
  },
  {
   "cell_type": "code",
   "execution_count": 14,
   "id": "cc9174e5",
   "metadata": {},
   "outputs": [
    {
     "data": {
      "text/plain": [
       "Index(['department', 'region', 'education', 'gender', 'recruitment_channel'], dtype='object')"
      ]
     },
     "execution_count": 14,
     "metadata": {},
     "output_type": "execute_result"
    }
   ],
   "source": [
    "test_categorical_cols"
   ]
  },
  {
   "cell_type": "code",
   "execution_count": 15,
   "id": "74014bf2",
   "metadata": {},
   "outputs": [],
   "source": [
    "data_test = pd.get_dummies(data_test, columns=test_categorical_cols, drop_first=True)"
   ]
  },
  {
   "cell_type": "code",
   "execution_count": 16,
   "id": "684a0857",
   "metadata": {},
   "outputs": [
    {
     "data": {
      "text/plain": [
       "no_of_trainings                   0\n",
       "age                               0\n",
       "previous_year_rating            799\n",
       "length_of_service                 0\n",
       "KPIs_met >80%                     0\n",
       "awards_won?                       0\n",
       "avg_training_score                0\n",
       "department_Finance                0\n",
       "department_HR                     0\n",
       "department_Legal                  0\n",
       "department_Operations             0\n",
       "department_Procurement            0\n",
       "department_R&D                    0\n",
       "department_Sales & Marketing      0\n",
       "department_Technology             0\n",
       "region_region_10                  0\n",
       "region_region_11                  0\n",
       "region_region_12                  0\n",
       "region_region_13                  0\n",
       "region_region_14                  0\n",
       "region_region_15                  0\n",
       "region_region_16                  0\n",
       "region_region_17                  0\n",
       "region_region_18                  0\n",
       "region_region_19                  0\n",
       "region_region_2                   0\n",
       "region_region_20                  0\n",
       "region_region_21                  0\n",
       "region_region_22                  0\n",
       "region_region_23                  0\n",
       "region_region_24                  0\n",
       "region_region_25                  0\n",
       "region_region_26                  0\n",
       "region_region_27                  0\n",
       "region_region_28                  0\n",
       "region_region_29                  0\n",
       "region_region_3                   0\n",
       "region_region_30                  0\n",
       "region_region_31                  0\n",
       "region_region_32                  0\n",
       "region_region_33                  0\n",
       "region_region_34                  0\n",
       "region_region_4                   0\n",
       "region_region_5                   0\n",
       "region_region_6                   0\n",
       "region_region_7                   0\n",
       "region_region_8                   0\n",
       "region_region_9                   0\n",
       "education_Below Secondary         0\n",
       "education_Master's & above        0\n",
       "gender_m                          0\n",
       "recruitment_channel_referred      0\n",
       "recruitment_channel_sourcing      0\n",
       "dtype: int64"
      ]
     },
     "execution_count": 16,
     "metadata": {},
     "output_type": "execute_result"
    }
   ],
   "source": [
    "data_test.isnull().sum()"
   ]
  },
  {
   "cell_type": "code",
   "execution_count": 17,
   "id": "019cae39",
   "metadata": {},
   "outputs": [],
   "source": [
    "data_test.fillna(data_test.mean(numeric_only=True).round(1), inplace=True) "
   ]
  },
  {
   "cell_type": "code",
   "execution_count": null,
   "id": "d0b6a2f7",
   "metadata": {},
   "outputs": [],
   "source": []
  },
  {
   "cell_type": "code",
   "execution_count": 18,
   "id": "774b5b46",
   "metadata": {},
   "outputs": [
    {
     "data": {
      "text/html": [
       "<div>\n",
       "<style scoped>\n",
       "    .dataframe tbody tr th:only-of-type {\n",
       "        vertical-align: middle;\n",
       "    }\n",
       "\n",
       "    .dataframe tbody tr th {\n",
       "        vertical-align: top;\n",
       "    }\n",
       "\n",
       "    .dataframe thead th {\n",
       "        text-align: right;\n",
       "    }\n",
       "</style>\n",
       "<table border=\"1\" class=\"dataframe\">\n",
       "  <thead>\n",
       "    <tr style=\"text-align: right;\">\n",
       "      <th></th>\n",
       "      <th>employee_id</th>\n",
       "      <th>department</th>\n",
       "      <th>region</th>\n",
       "      <th>education</th>\n",
       "      <th>gender</th>\n",
       "      <th>recruitment_channel</th>\n",
       "      <th>no_of_trainings</th>\n",
       "      <th>age</th>\n",
       "      <th>previous_year_rating</th>\n",
       "      <th>length_of_service</th>\n",
       "      <th>KPIs_met &gt;80%</th>\n",
       "      <th>awards_won?</th>\n",
       "      <th>avg_training_score</th>\n",
       "      <th>is_promoted</th>\n",
       "    </tr>\n",
       "  </thead>\n",
       "  <tbody>\n",
       "    <tr>\n",
       "      <th>40403</th>\n",
       "      <td>60135</td>\n",
       "      <td>Operations</td>\n",
       "      <td>region_19</td>\n",
       "      <td>Bachelor's</td>\n",
       "      <td>m</td>\n",
       "      <td>other</td>\n",
       "      <td>2</td>\n",
       "      <td>38</td>\n",
       "      <td>5.0</td>\n",
       "      <td>7</td>\n",
       "      <td>0</td>\n",
       "      <td>0</td>\n",
       "      <td>75</td>\n",
       "      <td>1</td>\n",
       "    </tr>\n",
       "    <tr>\n",
       "      <th>23693</th>\n",
       "      <td>55504</td>\n",
       "      <td>Sales &amp; Marketing</td>\n",
       "      <td>region_7</td>\n",
       "      <td>Master's &amp; above</td>\n",
       "      <td>m</td>\n",
       "      <td>sourcing</td>\n",
       "      <td>2</td>\n",
       "      <td>39</td>\n",
       "      <td>2.0</td>\n",
       "      <td>5</td>\n",
       "      <td>0</td>\n",
       "      <td>0</td>\n",
       "      <td>53</td>\n",
       "      <td>0</td>\n",
       "    </tr>\n",
       "    <tr>\n",
       "      <th>26217</th>\n",
       "      <td>58277</td>\n",
       "      <td>HR</td>\n",
       "      <td>region_23</td>\n",
       "      <td>Bachelor's</td>\n",
       "      <td>m</td>\n",
       "      <td>other</td>\n",
       "      <td>1</td>\n",
       "      <td>29</td>\n",
       "      <td>1.0</td>\n",
       "      <td>4</td>\n",
       "      <td>0</td>\n",
       "      <td>0</td>\n",
       "      <td>49</td>\n",
       "      <td>0</td>\n",
       "    </tr>\n",
       "    <tr>\n",
       "      <th>21667</th>\n",
       "      <td>74706</td>\n",
       "      <td>Analytics</td>\n",
       "      <td>region_15</td>\n",
       "      <td>Bachelor's</td>\n",
       "      <td>m</td>\n",
       "      <td>other</td>\n",
       "      <td>1</td>\n",
       "      <td>29</td>\n",
       "      <td>3.0</td>\n",
       "      <td>8</td>\n",
       "      <td>0</td>\n",
       "      <td>0</td>\n",
       "      <td>92</td>\n",
       "      <td>1</td>\n",
       "    </tr>\n",
       "    <tr>\n",
       "      <th>27916</th>\n",
       "      <td>15890</td>\n",
       "      <td>Analytics</td>\n",
       "      <td>region_2</td>\n",
       "      <td>Bachelor's</td>\n",
       "      <td>m</td>\n",
       "      <td>sourcing</td>\n",
       "      <td>2</td>\n",
       "      <td>37</td>\n",
       "      <td>5.0</td>\n",
       "      <td>9</td>\n",
       "      <td>0</td>\n",
       "      <td>0</td>\n",
       "      <td>84</td>\n",
       "      <td>0</td>\n",
       "    </tr>\n",
       "    <tr>\n",
       "      <th>33371</th>\n",
       "      <td>48527</td>\n",
       "      <td>Finance</td>\n",
       "      <td>region_7</td>\n",
       "      <td>Bachelor's</td>\n",
       "      <td>m</td>\n",
       "      <td>sourcing</td>\n",
       "      <td>1</td>\n",
       "      <td>31</td>\n",
       "      <td>5.0</td>\n",
       "      <td>7</td>\n",
       "      <td>1</td>\n",
       "      <td>0</td>\n",
       "      <td>57</td>\n",
       "      <td>0</td>\n",
       "    </tr>\n",
       "    <tr>\n",
       "      <th>43579</th>\n",
       "      <td>19974</td>\n",
       "      <td>Sales &amp; Marketing</td>\n",
       "      <td>region_16</td>\n",
       "      <td>Bachelor's</td>\n",
       "      <td>m</td>\n",
       "      <td>other</td>\n",
       "      <td>2</td>\n",
       "      <td>38</td>\n",
       "      <td>3.0</td>\n",
       "      <td>12</td>\n",
       "      <td>0</td>\n",
       "      <td>0</td>\n",
       "      <td>54</td>\n",
       "      <td>0</td>\n",
       "    </tr>\n",
       "    <tr>\n",
       "      <th>34142</th>\n",
       "      <td>19831</td>\n",
       "      <td>Sales &amp; Marketing</td>\n",
       "      <td>region_4</td>\n",
       "      <td>Master's &amp; above</td>\n",
       "      <td>f</td>\n",
       "      <td>other</td>\n",
       "      <td>1</td>\n",
       "      <td>32</td>\n",
       "      <td>3.0</td>\n",
       "      <td>5</td>\n",
       "      <td>0</td>\n",
       "      <td>0</td>\n",
       "      <td>53</td>\n",
       "      <td>0</td>\n",
       "    </tr>\n",
       "    <tr>\n",
       "      <th>675</th>\n",
       "      <td>71341</td>\n",
       "      <td>Operations</td>\n",
       "      <td>region_31</td>\n",
       "      <td>Master's &amp; above</td>\n",
       "      <td>m</td>\n",
       "      <td>sourcing</td>\n",
       "      <td>1</td>\n",
       "      <td>55</td>\n",
       "      <td>5.0</td>\n",
       "      <td>3</td>\n",
       "      <td>1</td>\n",
       "      <td>0</td>\n",
       "      <td>60</td>\n",
       "      <td>0</td>\n",
       "    </tr>\n",
       "    <tr>\n",
       "      <th>2649</th>\n",
       "      <td>17968</td>\n",
       "      <td>Sales &amp; Marketing</td>\n",
       "      <td>region_2</td>\n",
       "      <td>Bachelor's</td>\n",
       "      <td>m</td>\n",
       "      <td>sourcing</td>\n",
       "      <td>1</td>\n",
       "      <td>30</td>\n",
       "      <td>4.0</td>\n",
       "      <td>4</td>\n",
       "      <td>0</td>\n",
       "      <td>0</td>\n",
       "      <td>63</td>\n",
       "      <td>1</td>\n",
       "    </tr>\n",
       "  </tbody>\n",
       "</table>\n",
       "</div>"
      ],
      "text/plain": [
       "       employee_id         department     region         education gender  \\\n",
       "40403        60135         Operations  region_19        Bachelor's      m   \n",
       "23693        55504  Sales & Marketing   region_7  Master's & above      m   \n",
       "26217        58277                 HR  region_23        Bachelor's      m   \n",
       "21667        74706          Analytics  region_15        Bachelor's      m   \n",
       "27916        15890          Analytics   region_2        Bachelor's      m   \n",
       "33371        48527            Finance   region_7        Bachelor's      m   \n",
       "43579        19974  Sales & Marketing  region_16        Bachelor's      m   \n",
       "34142        19831  Sales & Marketing   region_4  Master's & above      f   \n",
       "675          71341         Operations  region_31  Master's & above      m   \n",
       "2649         17968  Sales & Marketing   region_2        Bachelor's      m   \n",
       "\n",
       "      recruitment_channel  no_of_trainings  age  previous_year_rating  \\\n",
       "40403               other                2   38                   5.0   \n",
       "23693            sourcing                2   39                   2.0   \n",
       "26217               other                1   29                   1.0   \n",
       "21667               other                1   29                   3.0   \n",
       "27916            sourcing                2   37                   5.0   \n",
       "33371            sourcing                1   31                   5.0   \n",
       "43579               other                2   38                   3.0   \n",
       "34142               other                1   32                   3.0   \n",
       "675              sourcing                1   55                   5.0   \n",
       "2649             sourcing                1   30                   4.0   \n",
       "\n",
       "       length_of_service  KPIs_met >80%  awards_won?  avg_training_score  \\\n",
       "40403                  7              0            0                  75   \n",
       "23693                  5              0            0                  53   \n",
       "26217                  4              0            0                  49   \n",
       "21667                  8              0            0                  92   \n",
       "27916                  9              0            0                  84   \n",
       "33371                  7              1            0                  57   \n",
       "43579                 12              0            0                  54   \n",
       "34142                  5              0            0                  53   \n",
       "675                    3              1            0                  60   \n",
       "2649                   4              0            0                  63   \n",
       "\n",
       "       is_promoted  \n",
       "40403            1  \n",
       "23693            0  \n",
       "26217            0  \n",
       "21667            1  \n",
       "27916            0  \n",
       "33371            0  \n",
       "43579            0  \n",
       "34142            0  \n",
       "675              0  \n",
       "2649             1  "
      ]
     },
     "execution_count": 18,
     "metadata": {},
     "output_type": "execute_result"
    }
   ],
   "source": [
    "#random 10 columns\n",
    "data.sample(10)"
   ]
  },
  {
   "cell_type": "code",
   "execution_count": 19,
   "id": "fd0e6403",
   "metadata": {},
   "outputs": [
    {
     "data": {
      "text/plain": [
       "(43846, 14)"
      ]
     },
     "execution_count": 19,
     "metadata": {},
     "output_type": "execute_result"
    }
   ],
   "source": [
    "data.shape"
   ]
  },
  {
   "cell_type": "code",
   "execution_count": 20,
   "id": "18284a51",
   "metadata": {},
   "outputs": [
    {
     "data": {
      "text/plain": [
       "Index(['employee_id', 'department', 'region', 'education', 'gender',\n",
       "       'recruitment_channel', 'no_of_trainings', 'age', 'previous_year_rating',\n",
       "       'length_of_service', 'KPIs_met >80%', 'awards_won?',\n",
       "       'avg_training_score', 'is_promoted'],\n",
       "      dtype='object')"
      ]
     },
     "execution_count": 20,
     "metadata": {},
     "output_type": "execute_result"
    }
   ],
   "source": [
    "data.columns"
   ]
  },
  {
   "cell_type": "code",
   "execution_count": 21,
   "id": "d91c76ed",
   "metadata": {},
   "outputs": [
    {
     "name": "stdout",
     "output_type": "stream",
     "text": [
      "4.68 MB\n"
     ]
    }
   ],
   "source": [
    "# Size of data.\n",
    "\n",
    "print((data.memory_usage().sum()/(1024*1024)).round(2),\"MB\")"
   ]
  },
  {
   "cell_type": "code",
   "execution_count": 22,
   "id": "07c77682",
   "metadata": {},
   "outputs": [
    {
     "data": {
      "text/plain": [
       "43846"
      ]
     },
     "execution_count": 22,
     "metadata": {},
     "output_type": "execute_result"
    }
   ],
   "source": [
    "data.employee_id.value_counts().sum()"
   ]
  },
  {
   "cell_type": "markdown",
   "id": "190588d3",
   "metadata": {},
   "source": [
    "##### \temployee_id column is unique feature(number of columns = \temployee_id) so we can drop it"
   ]
  },
  {
   "cell_type": "code",
   "execution_count": 23,
   "id": "7563de6e",
   "metadata": {},
   "outputs": [],
   "source": [
    "data.drop(['employee_id'],axis=1,inplace=True)"
   ]
  },
  {
   "cell_type": "code",
   "execution_count": 24,
   "id": "49ac3f21",
   "metadata": {},
   "outputs": [
    {
     "data": {
      "text/html": [
       "<div>\n",
       "<style scoped>\n",
       "    .dataframe tbody tr th:only-of-type {\n",
       "        vertical-align: middle;\n",
       "    }\n",
       "\n",
       "    .dataframe tbody tr th {\n",
       "        vertical-align: top;\n",
       "    }\n",
       "\n",
       "    .dataframe thead th {\n",
       "        text-align: right;\n",
       "    }\n",
       "</style>\n",
       "<table border=\"1\" class=\"dataframe\">\n",
       "  <thead>\n",
       "    <tr style=\"text-align: right;\">\n",
       "      <th></th>\n",
       "      <th>department</th>\n",
       "      <th>region</th>\n",
       "      <th>education</th>\n",
       "      <th>gender</th>\n",
       "      <th>recruitment_channel</th>\n",
       "      <th>no_of_trainings</th>\n",
       "      <th>age</th>\n",
       "      <th>previous_year_rating</th>\n",
       "      <th>length_of_service</th>\n",
       "      <th>KPIs_met &gt;80%</th>\n",
       "      <th>awards_won?</th>\n",
       "      <th>avg_training_score</th>\n",
       "      <th>is_promoted</th>\n",
       "    </tr>\n",
       "  </thead>\n",
       "  <tbody>\n",
       "    <tr>\n",
       "      <th>0</th>\n",
       "      <td>Sales &amp; Marketing</td>\n",
       "      <td>region_31</td>\n",
       "      <td>Bachelor's</td>\n",
       "      <td>f</td>\n",
       "      <td>other</td>\n",
       "      <td>1</td>\n",
       "      <td>34</td>\n",
       "      <td>3.0</td>\n",
       "      <td>7</td>\n",
       "      <td>0</td>\n",
       "      <td>0</td>\n",
       "      <td>52</td>\n",
       "      <td>0</td>\n",
       "    </tr>\n",
       "    <tr>\n",
       "      <th>1</th>\n",
       "      <td>Technology</td>\n",
       "      <td>region_2</td>\n",
       "      <td>Bachelor's</td>\n",
       "      <td>f</td>\n",
       "      <td>other</td>\n",
       "      <td>1</td>\n",
       "      <td>50</td>\n",
       "      <td>3.0</td>\n",
       "      <td>19</td>\n",
       "      <td>0</td>\n",
       "      <td>0</td>\n",
       "      <td>76</td>\n",
       "      <td>0</td>\n",
       "    </tr>\n",
       "    <tr>\n",
       "      <th>2</th>\n",
       "      <td>Technology</td>\n",
       "      <td>region_7</td>\n",
       "      <td>Bachelor's</td>\n",
       "      <td>m</td>\n",
       "      <td>other</td>\n",
       "      <td>1</td>\n",
       "      <td>40</td>\n",
       "      <td>3.0</td>\n",
       "      <td>7</td>\n",
       "      <td>0</td>\n",
       "      <td>0</td>\n",
       "      <td>79</td>\n",
       "      <td>0</td>\n",
       "    </tr>\n",
       "    <tr>\n",
       "      <th>3</th>\n",
       "      <td>Sales &amp; Marketing</td>\n",
       "      <td>region_2</td>\n",
       "      <td>Bachelor's</td>\n",
       "      <td>f</td>\n",
       "      <td>sourcing</td>\n",
       "      <td>1</td>\n",
       "      <td>33</td>\n",
       "      <td>5.0</td>\n",
       "      <td>6</td>\n",
       "      <td>0</td>\n",
       "      <td>0</td>\n",
       "      <td>48</td>\n",
       "      <td>0</td>\n",
       "    </tr>\n",
       "    <tr>\n",
       "      <th>4</th>\n",
       "      <td>Procurement</td>\n",
       "      <td>region_17</td>\n",
       "      <td>Bachelor's</td>\n",
       "      <td>f</td>\n",
       "      <td>other</td>\n",
       "      <td>1</td>\n",
       "      <td>34</td>\n",
       "      <td>3.0</td>\n",
       "      <td>8</td>\n",
       "      <td>0</td>\n",
       "      <td>0</td>\n",
       "      <td>67</td>\n",
       "      <td>0</td>\n",
       "    </tr>\n",
       "  </tbody>\n",
       "</table>\n",
       "</div>"
      ],
      "text/plain": [
       "          department     region   education gender recruitment_channel  \\\n",
       "0  Sales & Marketing  region_31  Bachelor's      f               other   \n",
       "1         Technology   region_2  Bachelor's      f               other   \n",
       "2         Technology   region_7  Bachelor's      m               other   \n",
       "3  Sales & Marketing   region_2  Bachelor's      f            sourcing   \n",
       "4        Procurement  region_17  Bachelor's      f               other   \n",
       "\n",
       "   no_of_trainings  age  previous_year_rating  length_of_service  \\\n",
       "0                1   34                   3.0                  7   \n",
       "1                1   50                   3.0                 19   \n",
       "2                1   40                   3.0                  7   \n",
       "3                1   33                   5.0                  6   \n",
       "4                1   34                   3.0                  8   \n",
       "\n",
       "   KPIs_met >80%  awards_won?  avg_training_score  is_promoted  \n",
       "0              0            0                  52            0  \n",
       "1              0            0                  76            0  \n",
       "2              0            0                  79            0  \n",
       "3              0            0                  48            0  \n",
       "4              0            0                  67            0  "
      ]
     },
     "execution_count": 24,
     "metadata": {},
     "output_type": "execute_result"
    }
   ],
   "source": [
    "data.head()"
   ]
  },
  {
   "cell_type": "markdown",
   "id": "88363989",
   "metadata": {},
   "source": [
    "## Plan\n",
    "### Classification Problem"
   ]
  },
  {
   "cell_type": "code",
   "execution_count": 22,
   "id": "cffa8a61",
   "metadata": {
    "scrolled": true
   },
   "outputs": [
    {
     "data": {
      "text/plain": [
       "'\\nRequirements for model fitting by sklearn.\\n1. No Missing values.\\n2. No categorical columns.\\n\\n'"
      ]
     },
     "execution_count": 22,
     "metadata": {},
     "output_type": "execute_result"
    }
   ],
   "source": [
    "'''\n",
    "Requirements for model fitting by sklearn.\n",
    "1. No Missing values.\n",
    "2. No categorical columns.\n",
    "\n",
    "'''\n"
   ]
  },
  {
   "cell_type": "code",
   "execution_count": 25,
   "id": "7f501fb0",
   "metadata": {},
   "outputs": [
    {
     "data": {
      "text/plain": [
       "department                 0\n",
       "region                     0\n",
       "education               1941\n",
       "gender                     0\n",
       "recruitment_channel        0\n",
       "no_of_trainings            0\n",
       "age                        0\n",
       "previous_year_rating    3325\n",
       "length_of_service          0\n",
       "KPIs_met >80%              0\n",
       "awards_won?                0\n",
       "avg_training_score         0\n",
       "is_promoted                0\n",
       "dtype: int64"
      ]
     },
     "execution_count": 25,
     "metadata": {},
     "output_type": "execute_result"
    }
   ],
   "source": [
    "# Find and fill null values\n",
    "\n",
    "data.isnull().sum()"
   ]
  },
  {
   "cell_type": "code",
   "execution_count": 26,
   "id": "7d852509",
   "metadata": {},
   "outputs": [
    {
     "data": {
      "text/plain": [
       "department               0.000000\n",
       "region                   0.000000\n",
       "education               44.268576\n",
       "gender                   0.000000\n",
       "recruitment_channel      0.000000\n",
       "no_of_trainings          0.000000\n",
       "age                      0.000000\n",
       "previous_year_rating    75.833599\n",
       "length_of_service        0.000000\n",
       "KPIs_met >80%            0.000000\n",
       "awards_won?              0.000000\n",
       "avg_training_score       0.000000\n",
       "is_promoted              0.000000\n",
       "dtype: float64"
      ]
     },
     "execution_count": 26,
     "metadata": {},
     "output_type": "execute_result"
    }
   ],
   "source": [
    "data.isnull().mean()*1000"
   ]
  },
  {
   "cell_type": "markdown",
   "id": "c6aa18bd",
   "metadata": {},
   "source": [
    "##### previous_year_rating feature has more null values = 75%"
   ]
  },
  {
   "cell_type": "code",
   "execution_count": 27,
   "id": "81fd0691",
   "metadata": {},
   "outputs": [],
   "source": [
    "#data.drop(['previous_year_rating'],axis=1,inplace=True)"
   ]
  },
  {
   "cell_type": "code",
   "execution_count": 28,
   "id": "52e0c289",
   "metadata": {},
   "outputs": [
    {
     "data": {
      "text/plain": [
       "department               object\n",
       "region                   object\n",
       "education                object\n",
       "gender                   object\n",
       "recruitment_channel      object\n",
       "no_of_trainings           int64\n",
       "age                       int64\n",
       "previous_year_rating    float64\n",
       "length_of_service         int64\n",
       "KPIs_met >80%             int64\n",
       "awards_won?               int64\n",
       "avg_training_score        int64\n",
       "is_promoted               int64\n",
       "dtype: object"
      ]
     },
     "execution_count": 28,
     "metadata": {},
     "output_type": "execute_result"
    }
   ],
   "source": [
    "data.dtypes"
   ]
  },
  {
   "cell_type": "code",
   "execution_count": 29,
   "id": "95defeeb",
   "metadata": {},
   "outputs": [
    {
     "data": {
      "text/plain": [
       "False    43764\n",
       "True        82\n",
       "dtype: int64"
      ]
     },
     "execution_count": 29,
     "metadata": {},
     "output_type": "execute_result"
    }
   ],
   "source": [
    "data.duplicated().value_counts()"
   ]
  },
  {
   "cell_type": "code",
   "execution_count": 30,
   "id": "44423f85",
   "metadata": {},
   "outputs": [
    {
     "data": {
      "text/plain": [
       "'\\nColumn Transformation\\n\\nsimple imputer = education , previous_year_rating  \\nordinalEncoder = education (nan = 0 ,\\'Below Secondary\\' = 1, \"Bachelor\\'s\" = 3, \"Master\\'s & above\" = 4)\\nOnehotEncoder = department , region, gender , recruitment_channel \\n\\n'"
      ]
     },
     "execution_count": 30,
     "metadata": {},
     "output_type": "execute_result"
    }
   ],
   "source": [
    "'''\n",
    "Column Transformation\n",
    "\n",
    "simple imputer = education , previous_year_rating  \n",
    "ordinalEncoder = education (nan = 0 ,'Below Secondary' = 1, \"Bachelor's\" = 3, \"Master's & above\" = 4)\n",
    "OnehotEncoder = department , region, gender , recruitment_channel \n",
    "\n",
    "'''"
   ]
  },
  {
   "cell_type": "code",
   "execution_count": 31,
   "id": "47905647",
   "metadata": {},
   "outputs": [
    {
     "data": {
      "text/plain": [
       "0              Bachelor's\n",
       "1              Bachelor's\n",
       "2              Bachelor's\n",
       "3              Bachelor's\n",
       "4              Bachelor's\n",
       "               ...       \n",
       "43841    Master's & above\n",
       "43842          Bachelor's\n",
       "43843    Master's & above\n",
       "43844          Bachelor's\n",
       "43845          Bachelor's\n",
       "Name: education, Length: 43846, dtype: object"
      ]
     },
     "execution_count": 31,
     "metadata": {},
     "output_type": "execute_result"
    }
   ],
   "source": [
    "data['education']"
   ]
  },
  {
   "cell_type": "code",
   "execution_count": 32,
   "id": "c26839f7",
   "metadata": {},
   "outputs": [],
   "source": [
    "#Filling missing values \n",
    "#1. numeric feature's missing values\n",
    "\n",
    "data.fillna(data.mean(numeric_only=True).round(1), inplace=True) "
   ]
  },
  {
   "cell_type": "code",
   "execution_count": 33,
   "id": "794e6840",
   "metadata": {},
   "outputs": [],
   "source": [
    "#2. categorical features missing values\n",
    "\n",
    "data = data.fillna(data.mode().iloc[0])"
   ]
  },
  {
   "cell_type": "code",
   "execution_count": 34,
   "id": "d7081ea6",
   "metadata": {},
   "outputs": [
    {
     "data": {
      "text/plain": [
       "department              0\n",
       "region                  0\n",
       "education               0\n",
       "gender                  0\n",
       "recruitment_channel     0\n",
       "no_of_trainings         0\n",
       "age                     0\n",
       "previous_year_rating    0\n",
       "length_of_service       0\n",
       "KPIs_met >80%           0\n",
       "awards_won?             0\n",
       "avg_training_score      0\n",
       "is_promoted             0\n",
       "dtype: int64"
      ]
     },
     "execution_count": 34,
     "metadata": {},
     "output_type": "execute_result"
    }
   ],
   "source": [
    "data.isnull().sum()"
   ]
  },
  {
   "cell_type": "code",
   "execution_count": 35,
   "id": "e80ad9dd",
   "metadata": {},
   "outputs": [],
   "source": [
    "categorical_cols = data.select_dtypes(include=['object']).columns"
   ]
  },
  {
   "cell_type": "code",
   "execution_count": 36,
   "id": "a1a93b29",
   "metadata": {},
   "outputs": [
    {
     "data": {
      "text/plain": [
       "Index(['department', 'region', 'education', 'gender', 'recruitment_channel'], dtype='object')"
      ]
     },
     "execution_count": 36,
     "metadata": {},
     "output_type": "execute_result"
    }
   ],
   "source": [
    "categorical_cols"
   ]
  },
  {
   "cell_type": "code",
   "execution_count": 37,
   "id": "77f777e6",
   "metadata": {},
   "outputs": [],
   "source": [
    "data = pd.get_dummies(data, columns=categorical_cols, drop_first=True)"
   ]
  },
  {
   "cell_type": "code",
   "execution_count": 38,
   "id": "7616c848",
   "metadata": {},
   "outputs": [
    {
     "data": {
      "text/html": [
       "<div>\n",
       "<style scoped>\n",
       "    .dataframe tbody tr th:only-of-type {\n",
       "        vertical-align: middle;\n",
       "    }\n",
       "\n",
       "    .dataframe tbody tr th {\n",
       "        vertical-align: top;\n",
       "    }\n",
       "\n",
       "    .dataframe thead th {\n",
       "        text-align: right;\n",
       "    }\n",
       "</style>\n",
       "<table border=\"1\" class=\"dataframe\">\n",
       "  <thead>\n",
       "    <tr style=\"text-align: right;\">\n",
       "      <th></th>\n",
       "      <th>no_of_trainings</th>\n",
       "      <th>age</th>\n",
       "      <th>previous_year_rating</th>\n",
       "      <th>length_of_service</th>\n",
       "      <th>KPIs_met &gt;80%</th>\n",
       "      <th>awards_won?</th>\n",
       "      <th>avg_training_score</th>\n",
       "      <th>is_promoted</th>\n",
       "      <th>department_Finance</th>\n",
       "      <th>department_HR</th>\n",
       "      <th>...</th>\n",
       "      <th>region_region_5</th>\n",
       "      <th>region_region_6</th>\n",
       "      <th>region_region_7</th>\n",
       "      <th>region_region_8</th>\n",
       "      <th>region_region_9</th>\n",
       "      <th>education_Below Secondary</th>\n",
       "      <th>education_Master's &amp; above</th>\n",
       "      <th>gender_m</th>\n",
       "      <th>recruitment_channel_referred</th>\n",
       "      <th>recruitment_channel_sourcing</th>\n",
       "    </tr>\n",
       "  </thead>\n",
       "  <tbody>\n",
       "    <tr>\n",
       "      <th>0</th>\n",
       "      <td>1</td>\n",
       "      <td>34</td>\n",
       "      <td>3.0</td>\n",
       "      <td>7</td>\n",
       "      <td>0</td>\n",
       "      <td>0</td>\n",
       "      <td>52</td>\n",
       "      <td>0</td>\n",
       "      <td>0</td>\n",
       "      <td>0</td>\n",
       "      <td>...</td>\n",
       "      <td>0</td>\n",
       "      <td>0</td>\n",
       "      <td>0</td>\n",
       "      <td>0</td>\n",
       "      <td>0</td>\n",
       "      <td>0</td>\n",
       "      <td>0</td>\n",
       "      <td>0</td>\n",
       "      <td>0</td>\n",
       "      <td>0</td>\n",
       "    </tr>\n",
       "    <tr>\n",
       "      <th>1</th>\n",
       "      <td>1</td>\n",
       "      <td>50</td>\n",
       "      <td>3.0</td>\n",
       "      <td>19</td>\n",
       "      <td>0</td>\n",
       "      <td>0</td>\n",
       "      <td>76</td>\n",
       "      <td>0</td>\n",
       "      <td>0</td>\n",
       "      <td>0</td>\n",
       "      <td>...</td>\n",
       "      <td>0</td>\n",
       "      <td>0</td>\n",
       "      <td>0</td>\n",
       "      <td>0</td>\n",
       "      <td>0</td>\n",
       "      <td>0</td>\n",
       "      <td>0</td>\n",
       "      <td>0</td>\n",
       "      <td>0</td>\n",
       "      <td>0</td>\n",
       "    </tr>\n",
       "    <tr>\n",
       "      <th>2</th>\n",
       "      <td>1</td>\n",
       "      <td>40</td>\n",
       "      <td>3.0</td>\n",
       "      <td>7</td>\n",
       "      <td>0</td>\n",
       "      <td>0</td>\n",
       "      <td>79</td>\n",
       "      <td>0</td>\n",
       "      <td>0</td>\n",
       "      <td>0</td>\n",
       "      <td>...</td>\n",
       "      <td>0</td>\n",
       "      <td>0</td>\n",
       "      <td>1</td>\n",
       "      <td>0</td>\n",
       "      <td>0</td>\n",
       "      <td>0</td>\n",
       "      <td>0</td>\n",
       "      <td>1</td>\n",
       "      <td>0</td>\n",
       "      <td>0</td>\n",
       "    </tr>\n",
       "    <tr>\n",
       "      <th>3</th>\n",
       "      <td>1</td>\n",
       "      <td>33</td>\n",
       "      <td>5.0</td>\n",
       "      <td>6</td>\n",
       "      <td>0</td>\n",
       "      <td>0</td>\n",
       "      <td>48</td>\n",
       "      <td>0</td>\n",
       "      <td>0</td>\n",
       "      <td>0</td>\n",
       "      <td>...</td>\n",
       "      <td>0</td>\n",
       "      <td>0</td>\n",
       "      <td>0</td>\n",
       "      <td>0</td>\n",
       "      <td>0</td>\n",
       "      <td>0</td>\n",
       "      <td>0</td>\n",
       "      <td>0</td>\n",
       "      <td>0</td>\n",
       "      <td>1</td>\n",
       "    </tr>\n",
       "    <tr>\n",
       "      <th>4</th>\n",
       "      <td>1</td>\n",
       "      <td>34</td>\n",
       "      <td>3.0</td>\n",
       "      <td>8</td>\n",
       "      <td>0</td>\n",
       "      <td>0</td>\n",
       "      <td>67</td>\n",
       "      <td>0</td>\n",
       "      <td>0</td>\n",
       "      <td>0</td>\n",
       "      <td>...</td>\n",
       "      <td>0</td>\n",
       "      <td>0</td>\n",
       "      <td>0</td>\n",
       "      <td>0</td>\n",
       "      <td>0</td>\n",
       "      <td>0</td>\n",
       "      <td>0</td>\n",
       "      <td>0</td>\n",
       "      <td>0</td>\n",
       "      <td>0</td>\n",
       "    </tr>\n",
       "  </tbody>\n",
       "</table>\n",
       "<p>5 rows × 54 columns</p>\n",
       "</div>"
      ],
      "text/plain": [
       "   no_of_trainings  age  previous_year_rating  length_of_service  \\\n",
       "0                1   34                   3.0                  7   \n",
       "1                1   50                   3.0                 19   \n",
       "2                1   40                   3.0                  7   \n",
       "3                1   33                   5.0                  6   \n",
       "4                1   34                   3.0                  8   \n",
       "\n",
       "   KPIs_met >80%  awards_won?  avg_training_score  is_promoted  \\\n",
       "0              0            0                  52            0   \n",
       "1              0            0                  76            0   \n",
       "2              0            0                  79            0   \n",
       "3              0            0                  48            0   \n",
       "4              0            0                  67            0   \n",
       "\n",
       "   department_Finance  department_HR  ...  region_region_5  region_region_6  \\\n",
       "0                   0              0  ...                0                0   \n",
       "1                   0              0  ...                0                0   \n",
       "2                   0              0  ...                0                0   \n",
       "3                   0              0  ...                0                0   \n",
       "4                   0              0  ...                0                0   \n",
       "\n",
       "   region_region_7  region_region_8  region_region_9  \\\n",
       "0                0                0                0   \n",
       "1                0                0                0   \n",
       "2                1                0                0   \n",
       "3                0                0                0   \n",
       "4                0                0                0   \n",
       "\n",
       "   education_Below Secondary  education_Master's & above  gender_m  \\\n",
       "0                          0                           0         0   \n",
       "1                          0                           0         0   \n",
       "2                          0                           0         1   \n",
       "3                          0                           0         0   \n",
       "4                          0                           0         0   \n",
       "\n",
       "   recruitment_channel_referred  recruitment_channel_sourcing  \n",
       "0                             0                             0  \n",
       "1                             0                             0  \n",
       "2                             0                             0  \n",
       "3                             0                             1  \n",
       "4                             0                             0  \n",
       "\n",
       "[5 rows x 54 columns]"
      ]
     },
     "execution_count": 38,
     "metadata": {},
     "output_type": "execute_result"
    }
   ],
   "source": [
    "data.head()"
   ]
  },
  {
   "cell_type": "code",
   "execution_count": 39,
   "id": "49ddf435",
   "metadata": {},
   "outputs": [
    {
     "data": {
      "text/plain": [
       "\"'\\n\\n              Specs        Score\\n6     avg_training_score  3225.171812\\n5            awards_won?  1222.035670\\n4          KPIs_met >80%  1104.370648\\n2   previous_year_rating   352.633192\\n42       region_region_4    55.569564\\n\\n\""
      ]
     },
     "execution_count": 39,
     "metadata": {},
     "output_type": "execute_result"
    }
   ],
   "source": [
    "\n",
    "''''\n",
    "\n",
    "              Specs        Score\n",
    "6     avg_training_score  3225.171812\n",
    "5            awards_won?  1222.035670\n",
    "4          KPIs_met >80%  1104.370648\n",
    "2   previous_year_rating   352.633192\n",
    "42       region_region_4    55.569564\n",
    "\n",
    "'''"
   ]
  },
  {
   "cell_type": "code",
   "execution_count": 40,
   "id": "d1a24248",
   "metadata": {},
   "outputs": [],
   "source": [
    "# Data spiliting\n",
    "train_size = 35076\n",
    "test_size = 4385\n",
    "holdout_size = 4385\n",
    "\n",
    "temp_x,holdout_x,temp_y,holdout_y  = train_test_split(data.drop(['is_promoted'],axis=1), data['is_promoted'] , test_size=holdout_size, random_state=121, stratify = data['is_promoted'] )"
   ]
  },
  {
   "cell_type": "code",
   "execution_count": 41,
   "id": "93f33ebb",
   "metadata": {},
   "outputs": [
    {
     "data": {
      "text/plain": [
       "((39461, 53), (4385, 53))"
      ]
     },
     "execution_count": 41,
     "metadata": {},
     "output_type": "execute_result"
    }
   ],
   "source": [
    "temp_x.shape , holdout_x.shape"
   ]
  },
  {
   "cell_type": "code",
   "execution_count": 42,
   "id": "3915b2c5",
   "metadata": {},
   "outputs": [],
   "source": [
    "train_x,test_x,train_y,test_y = train_test_split(temp_x,temp_y , test_size = test_size , random_state=121)"
   ]
  },
  {
   "cell_type": "code",
   "execution_count": 43,
   "id": "63f574fe",
   "metadata": {},
   "outputs": [
    {
     "data": {
      "text/plain": [
       "((35076, 53), (4385, 53), (4385, 53))"
      ]
     },
     "execution_count": 43,
     "metadata": {},
     "output_type": "execute_result"
    }
   ],
   "source": [
    "train_x.shape , test_x.shape , holdout_x.shape"
   ]
  },
  {
   "cell_type": "code",
   "execution_count": 44,
   "id": "6613f1ab",
   "metadata": {},
   "outputs": [],
   "source": [
    "model = RandomForestClassifier(random_state=121)"
   ]
  },
  {
   "cell_type": "markdown",
   "id": "6c976764",
   "metadata": {},
   "source": [
    "# Grid search CV and RandomizedSearchCV"
   ]
  },
  {
   "cell_type": "code",
   "execution_count": null,
   "id": "3f5c45ec",
   "metadata": {},
   "outputs": [],
   "source": [
    "from sklearn.model_selection import GridSearchCV, RandomizedSearchCV"
   ]
  },
  {
   "cell_type": "code",
   "execution_count": null,
   "id": "baf518d5",
   "metadata": {},
   "outputs": [],
   "source": [
    "param_grid = {'n_estimators' : [50,100,150],\n",
    "             'max_depth' : [5,7,11,13],\n",
    "             'max_features' : [10,12,15,17],\n",
    "             'min_samples_leaf' : [5,10,20,50]}"
   ]
  },
  {
   "cell_type": "code",
   "execution_count": null,
   "id": "57f73069",
   "metadata": {},
   "outputs": [],
   "source": [
    "tuned_model = RandomizedSearchCV(estimator=model,param_distributions=param_grid, scoring='f1',n_jobs=-1,cv=2, n_iter=10,refit=True,return_train_score=True)"
   ]
  },
  {
   "cell_type": "code",
   "execution_count": null,
   "id": "7498053b",
   "metadata": {},
   "outputs": [],
   "source": [
    "tuned_model.fit(train_x,train_y)"
   ]
  },
  {
   "cell_type": "code",
   "execution_count": null,
   "id": "2a02f4e2",
   "metadata": {},
   "outputs": [],
   "source": [
    "test_pred = tuned_model.predict(test_x)"
   ]
  },
  {
   "cell_type": "code",
   "execution_count": null,
   "id": "344abe87",
   "metadata": {},
   "outputs": [],
   "source": [
    "print(classification_report(test_y,test_pred))"
   ]
  },
  {
   "cell_type": "markdown",
   "id": "98e68ab3",
   "metadata": {},
   "source": [
    "# BayesianOptimization"
   ]
  },
  {
   "cell_type": "code",
   "execution_count": 42,
   "id": "7c0cca8c",
   "metadata": {},
   "outputs": [
    {
     "name": "stdout",
     "output_type": "stream",
     "text": [
      "Requirement already satisfied: bayesian-optimization in c:\\users\\asus\\anaconda3\\lib\\site-packages (1.4.2)\n",
      "Requirement already satisfied: colorama>=0.4.6 in c:\\users\\asus\\anaconda3\\lib\\site-packages (from bayesian-optimization) (0.4.6)\n",
      "Requirement already satisfied: scipy>=1.0.0 in c:\\users\\asus\\anaconda3\\lib\\site-packages (from bayesian-optimization) (1.9.1)\n",
      "Requirement already satisfied: numpy>=1.9.0 in c:\\users\\asus\\anaconda3\\lib\\site-packages (from bayesian-optimization) (1.21.5)\n",
      "Requirement already satisfied: scikit-learn>=0.18.0 in c:\\users\\asus\\anaconda3\\lib\\site-packages (from bayesian-optimization) (1.0.2)\n",
      "Requirement already satisfied: joblib>=0.11 in c:\\users\\asus\\anaconda3\\lib\\site-packages (from scikit-learn>=0.18.0->bayesian-optimization) (1.1.0)\n",
      "Requirement already satisfied: threadpoolctl>=2.0.0 in c:\\users\\asus\\anaconda3\\lib\\site-packages (from scikit-learn>=0.18.0->bayesian-optimization) (2.2.0)\n"
     ]
    }
   ],
   "source": [
    "!pip install bayesian-optimization"
   ]
  },
  {
   "cell_type": "code",
   "execution_count": 45,
   "id": "b186db28",
   "metadata": {},
   "outputs": [
    {
     "name": "stdout",
     "output_type": "stream",
     "text": [
      "|   iter    |  target   | colsam... | max_depth | n_esti... | num_le... | subsample |\n",
      "-------------------------------------------------------------------------------------\n",
      "| \u001b[0m1        \u001b[0m | \u001b[0m-0.2718  \u001b[0m | \u001b[0m0.2001   \u001b[0m | \u001b[0m13.43    \u001b[0m | \u001b[0m65.91    \u001b[0m | \u001b[0m27.08    \u001b[0m | \u001b[0m0.8463   \u001b[0m |\n",
      "| \u001b[95m2        \u001b[0m | \u001b[95m-0.2428  \u001b[0m | \u001b[95m0.4667   \u001b[0m | \u001b[95m27.23    \u001b[0m | \u001b[95m188.9    \u001b[0m | \u001b[95m30.94    \u001b[0m | \u001b[95m0.9708   \u001b[0m |\n",
      "| \u001b[0m3        \u001b[0m | \u001b[0m-0.2488  \u001b[0m | \u001b[0m0.9565   \u001b[0m | \u001b[0m24.59    \u001b[0m | \u001b[0m14.39    \u001b[0m | \u001b[0m55.3     \u001b[0m | \u001b[0m0.464    \u001b[0m |\n",
      "| \u001b[0m4        \u001b[0m | \u001b[0m-0.2444  \u001b[0m | \u001b[0m0.6596   \u001b[0m | \u001b[0m16.81    \u001b[0m | \u001b[0m233.1    \u001b[0m | \u001b[0m37.22    \u001b[0m | \u001b[0m0.61     \u001b[0m |\n",
      "| \u001b[0m5        \u001b[0m | \u001b[0m-0.2837  \u001b[0m | \u001b[0m0.3209   \u001b[0m | \u001b[0m14.03    \u001b[0m | \u001b[0m19.19    \u001b[0m | \u001b[0m44.24    \u001b[0m | \u001b[0m0.8455   \u001b[0m |\n",
      "| \u001b[0m6        \u001b[0m | \u001b[0m-0.2442  \u001b[0m | \u001b[0m0.8861   \u001b[0m | \u001b[0m22.4     \u001b[0m | \u001b[0m107.7    \u001b[0m | \u001b[0m57.97    \u001b[0m | \u001b[0m0.6886   \u001b[0m |\n",
      "| \u001b[0m7        \u001b[0m | \u001b[0m-0.2434  \u001b[0m | \u001b[0m0.5271   \u001b[0m | \u001b[0m9.015    \u001b[0m | \u001b[0m150.5    \u001b[0m | \u001b[0m34.14    \u001b[0m | \u001b[0m0.2325   \u001b[0m |\n",
      "| \u001b[0m8        \u001b[0m | \u001b[0m-0.2894  \u001b[0m | \u001b[0m0.2772   \u001b[0m | \u001b[0m9.198    \u001b[0m | \u001b[0m17.22    \u001b[0m | \u001b[0m57.1     \u001b[0m | \u001b[0m0.9759   \u001b[0m |\n",
      "| \u001b[0m9        \u001b[0m | \u001b[0m-0.2436  \u001b[0m | \u001b[0m0.9356   \u001b[0m | \u001b[0m9.755    \u001b[0m | \u001b[0m149.1    \u001b[0m | \u001b[0m33.57    \u001b[0m | \u001b[0m0.9283   \u001b[0m |\n",
      "| \u001b[0m10       \u001b[0m | \u001b[0m-0.2526  \u001b[0m | \u001b[0m0.999    \u001b[0m | \u001b[0m41.04    \u001b[0m | \u001b[0m10.0     \u001b[0m | \u001b[0m59.43    \u001b[0m | \u001b[0m0.1      \u001b[0m |\n",
      "| \u001b[0m11       \u001b[0m | \u001b[0m-0.2438  \u001b[0m | \u001b[0m0.999    \u001b[0m | \u001b[0m21.1     \u001b[0m | \u001b[0m169.1    \u001b[0m | \u001b[0m31.04    \u001b[0m | \u001b[0m0.999    \u001b[0m |\n",
      "| \u001b[0m12       \u001b[0m | \u001b[0m-0.2462  \u001b[0m | \u001b[0m0.9328   \u001b[0m | \u001b[0m18.78    \u001b[0m | \u001b[0m209.9    \u001b[0m | \u001b[0m35.79    \u001b[0m | \u001b[0m0.9667   \u001b[0m |\n",
      "| \u001b[0m13       \u001b[0m | \u001b[0m-0.244   \u001b[0m | \u001b[0m0.4599   \u001b[0m | \u001b[0m8.375    \u001b[0m | \u001b[0m184.9    \u001b[0m | \u001b[0m43.01    \u001b[0m | \u001b[0m0.4162   \u001b[0m |\n",
      "| \u001b[95m14       \u001b[0m | \u001b[95m-0.2425  \u001b[0m | \u001b[95m0.999    \u001b[0m | \u001b[95m5.818    \u001b[0m | \u001b[95m184.7    \u001b[0m | \u001b[95m21.0     \u001b[0m | \u001b[95m0.999    \u001b[0m |\n",
      "| \u001b[0m15       \u001b[0m | \u001b[0m-0.2753  \u001b[0m | \u001b[0m0.1      \u001b[0m | \u001b[0m18.3     \u001b[0m | \u001b[0m135.1    \u001b[0m | \u001b[0m55.67    \u001b[0m | \u001b[0m0.1      \u001b[0m |\n",
      "| \u001b[0m16       \u001b[0m | \u001b[0m-0.243   \u001b[0m | \u001b[0m0.9417   \u001b[0m | \u001b[0m6.358    \u001b[0m | \u001b[0m159.2    \u001b[0m | \u001b[0m21.57    \u001b[0m | \u001b[0m0.3467   \u001b[0m |\n",
      "| \u001b[0m17       \u001b[0m | \u001b[0m-0.2451  \u001b[0m | \u001b[0m0.4705   \u001b[0m | \u001b[0m30.83    \u001b[0m | \u001b[0m192.2    \u001b[0m | \u001b[0m54.25    \u001b[0m | \u001b[0m0.1752   \u001b[0m |\n",
      "| \u001b[0m18       \u001b[0m | \u001b[0m-0.2475  \u001b[0m | \u001b[0m0.756    \u001b[0m | \u001b[0m33.47    \u001b[0m | \u001b[0m221.9    \u001b[0m | \u001b[0m55.39    \u001b[0m | \u001b[0m0.4822   \u001b[0m |\n",
      "| \u001b[0m19       \u001b[0m | \u001b[0m-0.2569  \u001b[0m | \u001b[0m0.1687   \u001b[0m | \u001b[0m7.872    \u001b[0m | \u001b[0m212.6    \u001b[0m | \u001b[0m59.96    \u001b[0m | \u001b[0m0.2685   \u001b[0m |\n",
      "| \u001b[0m20       \u001b[0m | \u001b[0m-0.244   \u001b[0m | \u001b[0m0.5201   \u001b[0m | \u001b[0m43.13    \u001b[0m | \u001b[0m207.4    \u001b[0m | \u001b[0m33.73    \u001b[0m | \u001b[0m0.7962   \u001b[0m |\n",
      "| \u001b[0m21       \u001b[0m | \u001b[0m-0.245   \u001b[0m | \u001b[0m0.2869   \u001b[0m | \u001b[0m38.95    \u001b[0m | \u001b[0m231.4    \u001b[0m | \u001b[0m27.71    \u001b[0m | \u001b[0m0.9886   \u001b[0m |\n",
      "| \u001b[0m22       \u001b[0m | \u001b[0m-0.2452  \u001b[0m | \u001b[0m0.999    \u001b[0m | \u001b[0m39.84    \u001b[0m | \u001b[0m93.86    \u001b[0m | \u001b[0m61.0     \u001b[0m | \u001b[0m0.999    \u001b[0m |\n",
      "| \u001b[0m23       \u001b[0m | \u001b[0m-0.2462  \u001b[0m | \u001b[0m0.999    \u001b[0m | \u001b[0m45.0     \u001b[0m | \u001b[0m177.5    \u001b[0m | \u001b[0m40.41    \u001b[0m | \u001b[0m0.999    \u001b[0m |\n",
      "| \u001b[0m24       \u001b[0m | \u001b[0m-0.2488  \u001b[0m | \u001b[0m0.999    \u001b[0m | \u001b[0m33.73    \u001b[0m | \u001b[0m250.0    \u001b[0m | \u001b[0m46.1     \u001b[0m | \u001b[0m0.4319   \u001b[0m |\n",
      "| \u001b[0m25       \u001b[0m | \u001b[0m-0.2763  \u001b[0m | \u001b[0m0.1      \u001b[0m | \u001b[0m14.95    \u001b[0m | \u001b[0m88.68    \u001b[0m | \u001b[0m61.0     \u001b[0m | \u001b[0m0.1      \u001b[0m |\n",
      "=====================================================================================\n"
     ]
    },
    {
     "data": {
      "text/plain": [
       "LGBMClassifier(colsample_bytree=0.999, max_depth=5, n_estimators=184,\n",
       "               num_leaves=21, random_state=121, subsample=0.999)"
      ]
     },
     "execution_count": 45,
     "metadata": {},
     "output_type": "execute_result"
    }
   ],
   "source": [
    "from sklearn.model_selection import cross_val_score\n",
    "from bayes_opt import BayesianOptimization\n",
    "import lightgbm as lgb\n",
    "from lightgbm import LGBMClassifier\n",
    "def lgb_cv(n_estimators, max_depth, num_leaves, subsample,colsample_bytree, data, targets):\n",
    "    estimator = LGBMClassifier(\n",
    "        n_estimators=n_estimators,\n",
    "        max_depth=max_depth,\n",
    "        num_leaves=num_leaves,\n",
    "        subsample=subsample,\n",
    "        colsample_bytree=colsample_bytree,\n",
    "        random_state=121\n",
    "    )\n",
    "    cval = cross_val_score(estimator, data, targets,\n",
    "                           scoring='neg_root_mean_squared_error', cv=3)\n",
    "    return cval.mean()\n",
    "\n",
    "def lgb_crossval(n_estimators, max_depth, num_leaves, subsample,colsample_bytree):\n",
    "        return lgb_cv(\n",
    "            n_estimators=int(n_estimators),\n",
    "            max_depth=int(max_depth),\n",
    "            num_leaves=int(num_leaves),\n",
    "            subsample=max(min(subsample, 0.999), 1e-3),\n",
    "            colsample_bytree=max(min(colsample_bytree, 0.999), 1e-3),\n",
    "            data=train_x,\n",
    "            targets=train_y,\n",
    "        )\n",
    "        \n",
    "optimizer = BayesianOptimization(\n",
    "        f=lgb_crossval,\n",
    "        pbounds={\n",
    "            \"n_estimators\": (10, 250),\n",
    "            \"max_depth\": (5,45),\n",
    "            \"num_leaves\": (21,61),\n",
    "            \"subsample\": (0.1, 0.999),\n",
    "            \"colsample_bytree\":(0.1, 0.999)\n",
    "        },\n",
    "        random_state=121,\n",
    "        verbose=2\n",
    "    )\n",
    "optimizer.maximize(n_iter=20)\n",
    "\n",
    "best_params = optimizer.max['params']\n",
    "best_params['max_depth'] = int(best_params['max_depth'])\n",
    "best_params['num_leaves'] = int(best_params['num_leaves'])\n",
    "best_params['subsample'] = (best_params['subsample'])\n",
    "best_params['colsample_bytree'] = (best_params['colsample_bytree'])\n",
    "best_params['n_estimators'] = int(best_params['n_estimators'])\n",
    "\n",
    "best_model = LGBMClassifier(random_state=121)\n",
    "best_model.set_params(**best_params)\n",
    "best_model.fit(train_x, train_y)  "
   ]
  },
  {
   "cell_type": "code",
   "execution_count": 46,
   "id": "7892ba78",
   "metadata": {},
   "outputs": [],
   "source": [
    "tuned_model = LGBMClassifier(colsample_bytree=0.999, max_depth=5, n_estimators=184,\n",
    "               num_leaves=21, random_state=121, subsample=0.999)"
   ]
  },
  {
   "cell_type": "code",
   "execution_count": 47,
   "id": "eb3bf8ce",
   "metadata": {},
   "outputs": [
    {
     "data": {
      "text/plain": [
       "LGBMClassifier(colsample_bytree=0.999, max_depth=5, n_estimators=184,\n",
       "               num_leaves=21, random_state=121, subsample=0.999)"
      ]
     },
     "execution_count": 47,
     "metadata": {},
     "output_type": "execute_result"
    }
   ],
   "source": [
    "tuned_model.fit(train_x,train_y)"
   ]
  },
  {
   "cell_type": "code",
   "execution_count": 48,
   "id": "4e61f7d2",
   "metadata": {},
   "outputs": [],
   "source": [
    "test_pred = tuned_model.predict(test_x)"
   ]
  },
  {
   "cell_type": "code",
   "execution_count": 49,
   "id": "68c1205d",
   "metadata": {},
   "outputs": [
    {
     "name": "stdout",
     "output_type": "stream",
     "text": [
      "              precision    recall  f1-score   support\n",
      "\n",
      "           0       0.94      1.00      0.97      4005\n",
      "           1       0.96      0.34      0.50       380\n",
      "\n",
      "    accuracy                           0.94      4385\n",
      "   macro avg       0.95      0.67      0.73      4385\n",
      "weighted avg       0.94      0.94      0.93      4385\n",
      "\n"
     ]
    }
   ],
   "source": [
    "print(classification_report(test_y,test_pred))"
   ]
  },
  {
   "cell_type": "code",
   "execution_count": null,
   "id": "0974b2c1",
   "metadata": {},
   "outputs": [],
   "source": []
  },
  {
   "cell_type": "code",
   "execution_count": null,
   "id": "49c4d187",
   "metadata": {},
   "outputs": [],
   "source": []
  },
  {
   "cell_type": "code",
   "execution_count": null,
   "id": "d2d59852",
   "metadata": {},
   "outputs": [],
   "source": []
  },
  {
   "cell_type": "code",
   "execution_count": 50,
   "id": "3f4d53a2",
   "metadata": {},
   "outputs": [],
   "source": [
    "sample_submission = pd.read_csv(\"C:\\\\Users\\\\Asus\\\\Downloads\\\\tabular-minicap-1-main\\\\tabular-minicap-1-main\\\\sample_submission.csv\")"
   ]
  },
  {
   "cell_type": "code",
   "execution_count": 51,
   "id": "8995899a",
   "metadata": {},
   "outputs": [
    {
     "data": {
      "text/html": [
       "<div>\n",
       "<style scoped>\n",
       "    .dataframe tbody tr th:only-of-type {\n",
       "        vertical-align: middle;\n",
       "    }\n",
       "\n",
       "    .dataframe tbody tr th {\n",
       "        vertical-align: top;\n",
       "    }\n",
       "\n",
       "    .dataframe thead th {\n",
       "        text-align: right;\n",
       "    }\n",
       "</style>\n",
       "<table border=\"1\" class=\"dataframe\">\n",
       "  <thead>\n",
       "    <tr style=\"text-align: right;\">\n",
       "      <th></th>\n",
       "      <th>employee_id</th>\n",
       "      <th>is_promoted</th>\n",
       "    </tr>\n",
       "  </thead>\n",
       "  <tbody>\n",
       "    <tr>\n",
       "      <th>0</th>\n",
       "      <td>13463</td>\n",
       "      <td>NaN</td>\n",
       "    </tr>\n",
       "    <tr>\n",
       "      <th>1</th>\n",
       "      <td>16160</td>\n",
       "      <td>NaN</td>\n",
       "    </tr>\n",
       "    <tr>\n",
       "      <th>2</th>\n",
       "      <td>15840</td>\n",
       "      <td>NaN</td>\n",
       "    </tr>\n",
       "    <tr>\n",
       "      <th>3</th>\n",
       "      <td>28325</td>\n",
       "      <td>NaN</td>\n",
       "    </tr>\n",
       "    <tr>\n",
       "      <th>4</th>\n",
       "      <td>23651</td>\n",
       "      <td>NaN</td>\n",
       "    </tr>\n",
       "  </tbody>\n",
       "</table>\n",
       "</div>"
      ],
      "text/plain": [
       "   employee_id  is_promoted\n",
       "0        13463          NaN\n",
       "1        16160          NaN\n",
       "2        15840          NaN\n",
       "3        28325          NaN\n",
       "4        23651          NaN"
      ]
     },
     "execution_count": 51,
     "metadata": {},
     "output_type": "execute_result"
    }
   ],
   "source": [
    "sample_submission.head()"
   ]
  },
  {
   "cell_type": "code",
   "execution_count": null,
   "id": "d2641d4c",
   "metadata": {},
   "outputs": [],
   "source": [
    "sample_submission\n"
   ]
  },
  {
   "cell_type": "code",
   "execution_count": null,
   "id": "5b91b0ea",
   "metadata": {},
   "outputs": [],
   "source": [
    "sample_submission.to_csv('sample_submission.csv', index=False)"
   ]
  },
  {
   "cell_type": "markdown",
   "id": "185dcc7a",
   "metadata": {},
   "source": [
    "# Top 5 important features"
   ]
  },
  {
   "cell_type": "code",
   "execution_count": 53,
   "id": "c35ff547",
   "metadata": {},
   "outputs": [
    {
     "name": "stdout",
     "output_type": "stream",
     "text": [
      "                   Specs        Score\n",
      "6     avg_training_score  3225.171812\n",
      "5            awards_won?  1222.035670\n",
      "4          KPIs_met >80%  1104.370648\n",
      "2   previous_year_rating   352.633192\n",
      "42       region_region_4    55.569564\n"
     ]
    }
   ],
   "source": [
    "from sklearn.feature_selection import SelectKBest\n",
    "from sklearn.feature_selection import chi2\n",
    "\n",
    "\n",
    "#apply SelectKBest class to extract top 5 best features\n",
    "bestfeatures = SelectKBest(score_func=chi2, k=5)\n",
    "fit = bestfeatures.fit(train_x,train_y)\n",
    "dfscores = pd.DataFrame(fit.scores_)\n",
    "dfcolumns = pd.DataFrame(train_x.columns)\n",
    "\n",
    "\n",
    "#concat two dataframes for better visualization \n",
    "featureScores = pd.concat([dfcolumns,dfscores],axis=1)\n",
    "\n",
    "featureScores.columns = ['Specs','Score']  \n",
    "\n",
    "\n",
    "#print 5 best features\n",
    "print(featureScores.nlargest(5,'Score')) "
   ]
  },
  {
   "cell_type": "code",
   "execution_count": null,
   "id": "46ea27c8",
   "metadata": {},
   "outputs": [],
   "source": []
  },
  {
   "cell_type": "code",
   "execution_count": null,
   "id": "c131a0f1",
   "metadata": {},
   "outputs": [],
   "source": []
  }
 ],
 "metadata": {
  "kernelspec": {
   "display_name": "Python 3 (ipykernel)",
   "language": "python",
   "name": "python3"
  },
  "language_info": {
   "codemirror_mode": {
    "name": "ipython",
    "version": 3
   },
   "file_extension": ".py",
   "mimetype": "text/x-python",
   "name": "python",
   "nbconvert_exporter": "python",
   "pygments_lexer": "ipython3",
   "version": "3.9.13"
  }
 },
 "nbformat": 4,
 "nbformat_minor": 5
}
